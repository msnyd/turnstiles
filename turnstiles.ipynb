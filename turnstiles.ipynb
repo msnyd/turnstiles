{
 "metadata": {
  "language_info": {
   "codemirror_mode": {
    "name": "ipython",
    "version": 3
   },
   "file_extension": ".py",
   "mimetype": "text/x-python",
   "name": "python",
   "nbconvert_exporter": "python",
   "pygments_lexer": "ipython3",
   "version": "3.7.4-final"
  },
  "orig_nbformat": 2,
  "kernelspec": {
   "name": "Python 3.7.4 64-bit ('base': conda)",
   "display_name": "Python 3.7.4 64-bit ('base': conda)",
   "metadata": {
    "interpreter": {
     "hash": "c8267ba93549cdb7d460a56636b57cee221d2baed869af5234b2cbb539d72093"
    }
   }
  }
 },
 "nbformat": 4,
 "nbformat_minor": 2,
 "cells": [
  {
   "cell_type": "code",
   "execution_count": 42,
   "metadata": {},
   "outputs": [],
   "source": [
    "import requests\n",
    "\n",
    "url = \"http://web.mta.info/developers/data/nyct/turnstile/turnstile_161224.txt\"\n",
    "\n",
    "r = requests.get(url)\n",
    "with open('Dec242016.csv', 'w') as file:\n",
    "    file.write(r.text)\n"
   ]
  },
  {
   "cell_type": "code",
   "execution_count": 40,
   "metadata": {},
   "outputs": [],
   "source": [
    "import pandas as pd\n",
    "\n",
    "data = r'C:\\Users\\Matt\\Desktop\\turnstiles\\turnstiles.csv'\n",
    "\n",
    "df = pd.read_csv(data)"
   ]
  },
  {
   "cell_type": "code",
   "execution_count": 22,
   "metadata": {},
   "outputs": [
    {
     "output_type": "execute_result",
     "data": {
      "text/plain": [
       "              STATION  ENTRIES    EXITS  TOTAL VISITORS\n",
       "0               59 ST  5967477  2022101         7989578\n",
       "1               59 ST  5967485  2022116         7989601\n",
       "2               59 ST  5967553  2022233         7989786\n",
       "3               59 ST  5967790  2022331         7990121\n",
       "4               59 ST  5968186  2022421         7990607\n",
       "...               ...      ...      ...             ...\n",
       "192062  RIT-ROOSEVELT     5554      283            5837\n",
       "192063  RIT-ROOSEVELT     5554      283            5837\n",
       "192064  RIT-ROOSEVELT     5554      283            5837\n",
       "192065  RIT-ROOSEVELT     5554      283            5837\n",
       "192066  RIT-ROOSEVELT     5554      283            5837\n",
       "\n",
       "[192067 rows x 4 columns]"
      ],
      "text/html": "<div>\n<style scoped>\n    .dataframe tbody tr th:only-of-type {\n        vertical-align: middle;\n    }\n\n    .dataframe tbody tr th {\n        vertical-align: top;\n    }\n\n    .dataframe thead th {\n        text-align: right;\n    }\n</style>\n<table border=\"1\" class=\"dataframe\">\n  <thead>\n    <tr style=\"text-align: right;\">\n      <th></th>\n      <th>STATION</th>\n      <th>ENTRIES</th>\n      <th>EXITS</th>\n      <th>TOTAL VISITORS</th>\n    </tr>\n  </thead>\n  <tbody>\n    <tr>\n      <th>0</th>\n      <td>59 ST</td>\n      <td>5967477</td>\n      <td>2022101</td>\n      <td>7989578</td>\n    </tr>\n    <tr>\n      <th>1</th>\n      <td>59 ST</td>\n      <td>5967485</td>\n      <td>2022116</td>\n      <td>7989601</td>\n    </tr>\n    <tr>\n      <th>2</th>\n      <td>59 ST</td>\n      <td>5967553</td>\n      <td>2022233</td>\n      <td>7989786</td>\n    </tr>\n    <tr>\n      <th>3</th>\n      <td>59 ST</td>\n      <td>5967790</td>\n      <td>2022331</td>\n      <td>7990121</td>\n    </tr>\n    <tr>\n      <th>4</th>\n      <td>59 ST</td>\n      <td>5968186</td>\n      <td>2022421</td>\n      <td>7990607</td>\n    </tr>\n    <tr>\n      <th>...</th>\n      <td>...</td>\n      <td>...</td>\n      <td>...</td>\n      <td>...</td>\n    </tr>\n    <tr>\n      <th>192062</th>\n      <td>RIT-ROOSEVELT</td>\n      <td>5554</td>\n      <td>283</td>\n      <td>5837</td>\n    </tr>\n    <tr>\n      <th>192063</th>\n      <td>RIT-ROOSEVELT</td>\n      <td>5554</td>\n      <td>283</td>\n      <td>5837</td>\n    </tr>\n    <tr>\n      <th>192064</th>\n      <td>RIT-ROOSEVELT</td>\n      <td>5554</td>\n      <td>283</td>\n      <td>5837</td>\n    </tr>\n    <tr>\n      <th>192065</th>\n      <td>RIT-ROOSEVELT</td>\n      <td>5554</td>\n      <td>283</td>\n      <td>5837</td>\n    </tr>\n    <tr>\n      <th>192066</th>\n      <td>RIT-ROOSEVELT</td>\n      <td>5554</td>\n      <td>283</td>\n      <td>5837</td>\n    </tr>\n  </tbody>\n</table>\n<p>192067 rows × 4 columns</p>\n</div>"
     },
     "metadata": {},
     "execution_count": 22
    }
   ],
   "source": [
    "df"
   ]
  },
  {
   "cell_type": "code",
   "execution_count": 23,
   "metadata": {},
   "outputs": [
    {
     "output_type": "execute_result",
     "data": {
      "text/plain": [
       "2114941863"
      ]
     },
     "metadata": {},
     "execution_count": 23
    }
   ],
   "source": [
    "df['ENTRIES'].max()"
   ]
  },
  {
   "cell_type": "code",
   "execution_count": 24,
   "metadata": {},
   "outputs": [
    {
     "output_type": "execute_result",
     "data": {
      "text/plain": [
       "369"
      ]
     },
     "metadata": {},
     "execution_count": 24
    }
   ],
   "source": [
    "df['STATION'].nunique()"
   ]
  },
  {
   "cell_type": "code",
   "execution_count": 25,
   "metadata": {},
   "outputs": [],
   "source": [
    "# import requests\n",
    "\n",
    "# url = \"http://web.mta.info/developers/data/nyct/turnstile/turnstile_120107.txt\"\n",
    "\n",
    "# r = requests.get(url)\n",
    "# with open('Jan072012.csv', 'w') as file:\n",
    "#     file.write(r.text)\n",
    "\n",
    "# Files before mid October 2014 don't give me a station so I'm just making a graph from the first question: Dec 24, 2016"
   ]
  },
  {
   "cell_type": "code",
   "execution_count": 26,
   "metadata": {},
   "outputs": [],
   "source": [
    "data = r'C:\\Users\\Matt\\Desktop\\turnstiles\\turnstiles.csv'\n",
    "\n",
    "df = pd.read_csv(data)"
   ]
  },
  {
   "cell_type": "code",
   "execution_count": 27,
   "metadata": {},
   "outputs": [
    {
     "output_type": "execute_result",
     "data": {
      "text/plain": [
       "              STATION  ENTRIES    EXITS  TOTAL VISITORS\n",
       "0               59 ST  5967477  2022101         7989578\n",
       "1               59 ST  5967485  2022116         7989601\n",
       "2               59 ST  5967553  2022233         7989786\n",
       "3               59 ST  5967790  2022331         7990121\n",
       "4               59 ST  5968186  2022421         7990607\n",
       "...               ...      ...      ...             ...\n",
       "192062  RIT-ROOSEVELT     5554      283            5837\n",
       "192063  RIT-ROOSEVELT     5554      283            5837\n",
       "192064  RIT-ROOSEVELT     5554      283            5837\n",
       "192065  RIT-ROOSEVELT     5554      283            5837\n",
       "192066  RIT-ROOSEVELT     5554      283            5837\n",
       "\n",
       "[192067 rows x 4 columns]"
      ],
      "text/html": "<div>\n<style scoped>\n    .dataframe tbody tr th:only-of-type {\n        vertical-align: middle;\n    }\n\n    .dataframe tbody tr th {\n        vertical-align: top;\n    }\n\n    .dataframe thead th {\n        text-align: right;\n    }\n</style>\n<table border=\"1\" class=\"dataframe\">\n  <thead>\n    <tr style=\"text-align: right;\">\n      <th></th>\n      <th>STATION</th>\n      <th>ENTRIES</th>\n      <th>EXITS</th>\n      <th>TOTAL VISITORS</th>\n    </tr>\n  </thead>\n  <tbody>\n    <tr>\n      <th>0</th>\n      <td>59 ST</td>\n      <td>5967477</td>\n      <td>2022101</td>\n      <td>7989578</td>\n    </tr>\n    <tr>\n      <th>1</th>\n      <td>59 ST</td>\n      <td>5967485</td>\n      <td>2022116</td>\n      <td>7989601</td>\n    </tr>\n    <tr>\n      <th>2</th>\n      <td>59 ST</td>\n      <td>5967553</td>\n      <td>2022233</td>\n      <td>7989786</td>\n    </tr>\n    <tr>\n      <th>3</th>\n      <td>59 ST</td>\n      <td>5967790</td>\n      <td>2022331</td>\n      <td>7990121</td>\n    </tr>\n    <tr>\n      <th>4</th>\n      <td>59 ST</td>\n      <td>5968186</td>\n      <td>2022421</td>\n      <td>7990607</td>\n    </tr>\n    <tr>\n      <th>...</th>\n      <td>...</td>\n      <td>...</td>\n      <td>...</td>\n      <td>...</td>\n    </tr>\n    <tr>\n      <th>192062</th>\n      <td>RIT-ROOSEVELT</td>\n      <td>5554</td>\n      <td>283</td>\n      <td>5837</td>\n    </tr>\n    <tr>\n      <th>192063</th>\n      <td>RIT-ROOSEVELT</td>\n      <td>5554</td>\n      <td>283</td>\n      <td>5837</td>\n    </tr>\n    <tr>\n      <th>192064</th>\n      <td>RIT-ROOSEVELT</td>\n      <td>5554</td>\n      <td>283</td>\n      <td>5837</td>\n    </tr>\n    <tr>\n      <th>192065</th>\n      <td>RIT-ROOSEVELT</td>\n      <td>5554</td>\n      <td>283</td>\n      <td>5837</td>\n    </tr>\n    <tr>\n      <th>192066</th>\n      <td>RIT-ROOSEVELT</td>\n      <td>5554</td>\n      <td>283</td>\n      <td>5837</td>\n    </tr>\n  </tbody>\n</table>\n<p>192067 rows × 4 columns</p>\n</div>"
     },
     "metadata": {},
     "execution_count": 27
    }
   ],
   "source": [
    "df"
   ]
  },
  {
   "cell_type": "code",
   "execution_count": 28,
   "metadata": {},
   "outputs": [
    {
     "output_type": "execute_result",
     "data": {
      "text/plain": [
       "            STATION     ENTRIES       EXITS  TOTAL VISITORS\n",
       "120624  CHAMBERS ST  2114941863  1712043670      3826985533\n",
       "120623  CHAMBERS ST  2114941768  1712043602      3826985370\n",
       "120622  CHAMBERS ST  2114941377  1712043429      3826984806\n",
       "120621  CHAMBERS ST  2114941135  1712043194      3826984329\n",
       "120620  CHAMBERS ST  2114941041  1712042881      3826983922"
      ],
      "text/html": "<div>\n<style scoped>\n    .dataframe tbody tr th:only-of-type {\n        vertical-align: middle;\n    }\n\n    .dataframe tbody tr th {\n        vertical-align: top;\n    }\n\n    .dataframe thead th {\n        text-align: right;\n    }\n</style>\n<table border=\"1\" class=\"dataframe\">\n  <thead>\n    <tr style=\"text-align: right;\">\n      <th></th>\n      <th>STATION</th>\n      <th>ENTRIES</th>\n      <th>EXITS</th>\n      <th>TOTAL VISITORS</th>\n    </tr>\n  </thead>\n  <tbody>\n    <tr>\n      <th>120624</th>\n      <td>CHAMBERS ST</td>\n      <td>2114941863</td>\n      <td>1712043670</td>\n      <td>3826985533</td>\n    </tr>\n    <tr>\n      <th>120623</th>\n      <td>CHAMBERS ST</td>\n      <td>2114941768</td>\n      <td>1712043602</td>\n      <td>3826985370</td>\n    </tr>\n    <tr>\n      <th>120622</th>\n      <td>CHAMBERS ST</td>\n      <td>2114941377</td>\n      <td>1712043429</td>\n      <td>3826984806</td>\n    </tr>\n    <tr>\n      <th>120621</th>\n      <td>CHAMBERS ST</td>\n      <td>2114941135</td>\n      <td>1712043194</td>\n      <td>3826984329</td>\n    </tr>\n    <tr>\n      <th>120620</th>\n      <td>CHAMBERS ST</td>\n      <td>2114941041</td>\n      <td>1712042881</td>\n      <td>3826983922</td>\n    </tr>\n  </tbody>\n</table>\n</div>"
     },
     "metadata": {},
     "execution_count": 28
    }
   ],
   "source": [
    "df.sort_values(by='ENTRIES', ascending=False).head(5)"
   ]
  },
  {
   "cell_type": "code",
   "execution_count": 29,
   "metadata": {},
   "outputs": [],
   "source": [
    "df = df.drop(columns=[\"ENTRIES\", \"EXITS\"])"
   ]
  },
  {
   "cell_type": "code",
   "execution_count": 30,
   "metadata": {},
   "outputs": [],
   "source": [
    "df = df.groupby([\"STATION\"]).max()"
   ]
  },
  {
   "cell_type": "code",
   "execution_count": 31,
   "metadata": {},
   "outputs": [
    {
     "output_type": "execute_result",
     "data": {
      "text/plain": [
       "                 TOTAL VISITORS\n",
       "STATION                        \n",
       "1 AV                 1950757287\n",
       "103 ST                538633565\n",
       "103 ST-CORONA          36628410\n",
       "104 ST               3028648753\n",
       "110 ST                 16183874\n",
       "...                         ...\n",
       "WOODHAVEN BLVD        117440528\n",
       "WOODLAWN               12793250\n",
       "WORLD TRADE CTR        15073067\n",
       "YORK ST                35069704\n",
       "ZEREGA AV              53735612\n",
       "\n",
       "[369 rows x 1 columns]"
      ],
      "text/html": "<div>\n<style scoped>\n    .dataframe tbody tr th:only-of-type {\n        vertical-align: middle;\n    }\n\n    .dataframe tbody tr th {\n        vertical-align: top;\n    }\n\n    .dataframe thead th {\n        text-align: right;\n    }\n</style>\n<table border=\"1\" class=\"dataframe\">\n  <thead>\n    <tr style=\"text-align: right;\">\n      <th></th>\n      <th>TOTAL VISITORS</th>\n    </tr>\n    <tr>\n      <th>STATION</th>\n      <th></th>\n    </tr>\n  </thead>\n  <tbody>\n    <tr>\n      <th>1 AV</th>\n      <td>1950757287</td>\n    </tr>\n    <tr>\n      <th>103 ST</th>\n      <td>538633565</td>\n    </tr>\n    <tr>\n      <th>103 ST-CORONA</th>\n      <td>36628410</td>\n    </tr>\n    <tr>\n      <th>104 ST</th>\n      <td>3028648753</td>\n    </tr>\n    <tr>\n      <th>110 ST</th>\n      <td>16183874</td>\n    </tr>\n    <tr>\n      <th>...</th>\n      <td>...</td>\n    </tr>\n    <tr>\n      <th>WOODHAVEN BLVD</th>\n      <td>117440528</td>\n    </tr>\n    <tr>\n      <th>WOODLAWN</th>\n      <td>12793250</td>\n    </tr>\n    <tr>\n      <th>WORLD TRADE CTR</th>\n      <td>15073067</td>\n    </tr>\n    <tr>\n      <th>YORK ST</th>\n      <td>35069704</td>\n    </tr>\n    <tr>\n      <th>ZEREGA AV</th>\n      <td>53735612</td>\n    </tr>\n  </tbody>\n</table>\n<p>369 rows × 1 columns</p>\n</div>"
     },
     "metadata": {},
     "execution_count": 31
    }
   ],
   "source": [
    "df"
   ]
  },
  {
   "cell_type": "code",
   "execution_count": 32,
   "metadata": {},
   "outputs": [
    {
     "output_type": "execute_result",
     "data": {
      "text/plain": [
       "                 TOTAL VISITORS\n",
       "STATION                        \n",
       "1 AV                 1950757287\n",
       "103 ST                538633565\n",
       "103 ST-CORONA          36628410\n",
       "104 ST               3028648753\n",
       "110 ST                 16183874\n",
       "...                         ...\n",
       "WOODHAVEN BLVD        117440528\n",
       "WOODLAWN               12793250\n",
       "WORLD TRADE CTR        15073067\n",
       "YORK ST                35069704\n",
       "ZEREGA AV              53735612\n",
       "\n",
       "[369 rows x 1 columns]"
      ],
      "text/html": "<div>\n<style scoped>\n    .dataframe tbody tr th:only-of-type {\n        vertical-align: middle;\n    }\n\n    .dataframe tbody tr th {\n        vertical-align: top;\n    }\n\n    .dataframe thead th {\n        text-align: right;\n    }\n</style>\n<table border=\"1\" class=\"dataframe\">\n  <thead>\n    <tr style=\"text-align: right;\">\n      <th></th>\n      <th>TOTAL VISITORS</th>\n    </tr>\n    <tr>\n      <th>STATION</th>\n      <th></th>\n    </tr>\n  </thead>\n  <tbody>\n    <tr>\n      <th>1 AV</th>\n      <td>1950757287</td>\n    </tr>\n    <tr>\n      <th>103 ST</th>\n      <td>538633565</td>\n    </tr>\n    <tr>\n      <th>103 ST-CORONA</th>\n      <td>36628410</td>\n    </tr>\n    <tr>\n      <th>104 ST</th>\n      <td>3028648753</td>\n    </tr>\n    <tr>\n      <th>110 ST</th>\n      <td>16183874</td>\n    </tr>\n    <tr>\n      <th>...</th>\n      <td>...</td>\n    </tr>\n    <tr>\n      <th>WOODHAVEN BLVD</th>\n      <td>117440528</td>\n    </tr>\n    <tr>\n      <th>WOODLAWN</th>\n      <td>12793250</td>\n    </tr>\n    <tr>\n      <th>WORLD TRADE CTR</th>\n      <td>15073067</td>\n    </tr>\n    <tr>\n      <th>YORK ST</th>\n      <td>35069704</td>\n    </tr>\n    <tr>\n      <th>ZEREGA AV</th>\n      <td>53735612</td>\n    </tr>\n  </tbody>\n</table>\n<p>369 rows × 1 columns</p>\n</div>"
     },
     "metadata": {},
     "execution_count": 32
    }
   ],
   "source": [
    "df"
   ]
  },
  {
   "cell_type": "code",
   "execution_count": 33,
   "metadata": {},
   "outputs": [],
   "source": [
    "df = df.sort_values(by='TOTAL VISITORS', ascending=True).head(5)\n"
   ]
  },
  {
   "cell_type": "code",
   "execution_count": 34,
   "metadata": {},
   "outputs": [
    {
     "output_type": "execute_result",
     "data": {
      "text/plain": [
       "                 TOTAL VISITORS\n",
       "STATION                        \n",
       "JFK JAMAICA CT1          219292\n",
       "NEWARK C                 454624\n",
       "LACKAWANNA               829895\n",
       "BROAD CHANNEL           1148771\n",
       "NEWARK HW BMEBE         1171564"
      ],
      "text/html": "<div>\n<style scoped>\n    .dataframe tbody tr th:only-of-type {\n        vertical-align: middle;\n    }\n\n    .dataframe tbody tr th {\n        vertical-align: top;\n    }\n\n    .dataframe thead th {\n        text-align: right;\n    }\n</style>\n<table border=\"1\" class=\"dataframe\">\n  <thead>\n    <tr style=\"text-align: right;\">\n      <th></th>\n      <th>TOTAL VISITORS</th>\n    </tr>\n    <tr>\n      <th>STATION</th>\n      <th></th>\n    </tr>\n  </thead>\n  <tbody>\n    <tr>\n      <th>JFK JAMAICA CT1</th>\n      <td>219292</td>\n    </tr>\n    <tr>\n      <th>NEWARK C</th>\n      <td>454624</td>\n    </tr>\n    <tr>\n      <th>LACKAWANNA</th>\n      <td>829895</td>\n    </tr>\n    <tr>\n      <th>BROAD CHANNEL</th>\n      <td>1148771</td>\n    </tr>\n    <tr>\n      <th>NEWARK HW BMEBE</th>\n      <td>1171564</td>\n    </tr>\n  </tbody>\n</table>\n</div>"
     },
     "metadata": {},
     "execution_count": 34
    }
   ],
   "source": [
    "df"
   ]
  },
  {
   "cell_type": "code",
   "execution_count": 35,
   "metadata": {},
   "outputs": [
    {
     "output_type": "execute_result",
     "data": {
      "text/plain": [
       "           STATION  TOTAL VISITORS\n",
       "0  JFK JAMAICA CT1          219292\n",
       "1         NEWARK C          454624\n",
       "2       LACKAWANNA          829895\n",
       "3    BROAD CHANNEL         1148771\n",
       "4  NEWARK HW BMEBE         1171564"
      ],
      "text/html": "<div>\n<style scoped>\n    .dataframe tbody tr th:only-of-type {\n        vertical-align: middle;\n    }\n\n    .dataframe tbody tr th {\n        vertical-align: top;\n    }\n\n    .dataframe thead th {\n        text-align: right;\n    }\n</style>\n<table border=\"1\" class=\"dataframe\">\n  <thead>\n    <tr style=\"text-align: right;\">\n      <th></th>\n      <th>STATION</th>\n      <th>TOTAL VISITORS</th>\n    </tr>\n  </thead>\n  <tbody>\n    <tr>\n      <th>0</th>\n      <td>JFK JAMAICA CT1</td>\n      <td>219292</td>\n    </tr>\n    <tr>\n      <th>1</th>\n      <td>NEWARK C</td>\n      <td>454624</td>\n    </tr>\n    <tr>\n      <th>2</th>\n      <td>LACKAWANNA</td>\n      <td>829895</td>\n    </tr>\n    <tr>\n      <th>3</th>\n      <td>BROAD CHANNEL</td>\n      <td>1148771</td>\n    </tr>\n    <tr>\n      <th>4</th>\n      <td>NEWARK HW BMEBE</td>\n      <td>1171564</td>\n    </tr>\n  </tbody>\n</table>\n</div>"
     },
     "metadata": {},
     "execution_count": 35
    }
   ],
   "source": [
    "df1 = pd.DataFrame({\n",
    "    'STATION': ['JFK JAMAICA CT1', 'NEWARK C', 'LACKAWANNA', 'BROAD CHANNEL', 'NEWARK HW BMEBE'],\n",
    "    'TOTAL VISITORS': [219292, 454624, 829895, 1148771, 1171564]\n",
    "})\n",
    "\n",
    "# Remaking the Pandas Dataframe because the GROUP BY function used the Station column as its index\n",
    "df1"
   ]
  },
  {
   "cell_type": "code",
   "execution_count": 36,
   "metadata": {},
   "outputs": [
    {
     "output_type": "execute_result",
     "data": {
      "text/plain": [
       "STATION           object\n",
       "TOTAL VISITORS     int64\n",
       "dtype: object"
      ]
     },
     "metadata": {},
     "execution_count": 36
    }
   ],
   "source": [
    "df1.dtypes"
   ]
  },
  {
   "cell_type": "code",
   "execution_count": 37,
   "metadata": {},
   "outputs": [],
   "source": [
    "import plotly.express as px\n",
    "import plotly"
   ]
  },
  {
   "cell_type": "code",
   "execution_count": 38,
   "metadata": {},
   "outputs": [],
   "source": [
    "fig1 = px.bar(\n",
    "    df1,\n",
    "    title = 'Least Used Stations',\n",
    "    x='STATION', \n",
    "    y='TOTAL VISITORS', \n",
    "    hover_name = 'TOTAL VISITORS', \n",
    "    color='STATION',\n",
    ")"
   ]
  },
  {
   "cell_type": "code",
   "execution_count": 39,
   "metadata": {},
   "outputs": [
    {
     "output_type": "display_data",
     "data": {
      "application/vnd.plotly.v1+json": {
       "config": {
        "plotlyServerURL": "https://plot.ly"
       },
       "data": [
        {
         "alignmentgroup": "True",
         "hoverlabel": {
          "namelength": 0
         },
         "hovertemplate": "<b>%{hovertext}</b><br><br>STATION=%{x}<br>TOTAL VISITORS=%{y}",
         "hovertext": [
          219292
         ],
         "legendgroup": "STATION=JFK JAMAICA CT1",
         "marker": {
          "color": "#636efa"
         },
         "name": "STATION=JFK JAMAICA CT1",
         "offsetgroup": "STATION=JFK JAMAICA CT1",
         "orientation": "v",
         "showlegend": true,
         "textposition": "auto",
         "type": "bar",
         "x": [
          "JFK JAMAICA CT1"
         ],
         "xaxis": "x",
         "y": [
          219292
         ],
         "yaxis": "y"
        },
        {
         "alignmentgroup": "True",
         "hoverlabel": {
          "namelength": 0
         },
         "hovertemplate": "<b>%{hovertext}</b><br><br>STATION=%{x}<br>TOTAL VISITORS=%{y}",
         "hovertext": [
          454624
         ],
         "legendgroup": "STATION=NEWARK C",
         "marker": {
          "color": "#EF553B"
         },
         "name": "STATION=NEWARK C",
         "offsetgroup": "STATION=NEWARK C",
         "orientation": "v",
         "showlegend": true,
         "textposition": "auto",
         "type": "bar",
         "x": [
          "NEWARK C"
         ],
         "xaxis": "x",
         "y": [
          454624
         ],
         "yaxis": "y"
        },
        {
         "alignmentgroup": "True",
         "hoverlabel": {
          "namelength": 0
         },
         "hovertemplate": "<b>%{hovertext}</b><br><br>STATION=%{x}<br>TOTAL VISITORS=%{y}",
         "hovertext": [
          829895
         ],
         "legendgroup": "STATION=LACKAWANNA",
         "marker": {
          "color": "#00cc96"
         },
         "name": "STATION=LACKAWANNA",
         "offsetgroup": "STATION=LACKAWANNA",
         "orientation": "v",
         "showlegend": true,
         "textposition": "auto",
         "type": "bar",
         "x": [
          "LACKAWANNA"
         ],
         "xaxis": "x",
         "y": [
          829895
         ],
         "yaxis": "y"
        },
        {
         "alignmentgroup": "True",
         "hoverlabel": {
          "namelength": 0
         },
         "hovertemplate": "<b>%{hovertext}</b><br><br>STATION=%{x}<br>TOTAL VISITORS=%{y}",
         "hovertext": [
          1148771
         ],
         "legendgroup": "STATION=BROAD CHANNEL",
         "marker": {
          "color": "#ab63fa"
         },
         "name": "STATION=BROAD CHANNEL",
         "offsetgroup": "STATION=BROAD CHANNEL",
         "orientation": "v",
         "showlegend": true,
         "textposition": "auto",
         "type": "bar",
         "x": [
          "BROAD CHANNEL"
         ],
         "xaxis": "x",
         "y": [
          1148771
         ],
         "yaxis": "y"
        },
        {
         "alignmentgroup": "True",
         "hoverlabel": {
          "namelength": 0
         },
         "hovertemplate": "<b>%{hovertext}</b><br><br>STATION=%{x}<br>TOTAL VISITORS=%{y}",
         "hovertext": [
          1171564
         ],
         "legendgroup": "STATION=NEWARK HW BMEBE",
         "marker": {
          "color": "#FFA15A"
         },
         "name": "STATION=NEWARK HW BMEBE",
         "offsetgroup": "STATION=NEWARK HW BMEBE",
         "orientation": "v",
         "showlegend": true,
         "textposition": "auto",
         "type": "bar",
         "x": [
          "NEWARK HW BMEBE"
         ],
         "xaxis": "x",
         "y": [
          1171564
         ],
         "yaxis": "y"
        }
       ],
       "layout": {
        "barmode": "relative",
        "legend": {
         "tracegroupgap": 0
        },
        "template": {
         "data": {
          "bar": [
           {
            "error_x": {
             "color": "#2a3f5f"
            },
            "error_y": {
             "color": "#2a3f5f"
            },
            "marker": {
             "line": {
              "color": "#E5ECF6",
              "width": 0.5
             }
            },
            "type": "bar"
           }
          ],
          "barpolar": [
           {
            "marker": {
             "line": {
              "color": "#E5ECF6",
              "width": 0.5
             }
            },
            "type": "barpolar"
           }
          ],
          "carpet": [
           {
            "aaxis": {
             "endlinecolor": "#2a3f5f",
             "gridcolor": "white",
             "linecolor": "white",
             "minorgridcolor": "white",
             "startlinecolor": "#2a3f5f"
            },
            "baxis": {
             "endlinecolor": "#2a3f5f",
             "gridcolor": "white",
             "linecolor": "white",
             "minorgridcolor": "white",
             "startlinecolor": "#2a3f5f"
            },
            "type": "carpet"
           }
          ],
          "choropleth": [
           {
            "colorbar": {
             "outlinewidth": 0,
             "ticks": ""
            },
            "type": "choropleth"
           }
          ],
          "contour": [
           {
            "colorbar": {
             "outlinewidth": 0,
             "ticks": ""
            },
            "colorscale": [
             [
              0,
              "#0d0887"
             ],
             [
              0.1111111111111111,
              "#46039f"
             ],
             [
              0.2222222222222222,
              "#7201a8"
             ],
             [
              0.3333333333333333,
              "#9c179e"
             ],
             [
              0.4444444444444444,
              "#bd3786"
             ],
             [
              0.5555555555555556,
              "#d8576b"
             ],
             [
              0.6666666666666666,
              "#ed7953"
             ],
             [
              0.7777777777777778,
              "#fb9f3a"
             ],
             [
              0.8888888888888888,
              "#fdca26"
             ],
             [
              1,
              "#f0f921"
             ]
            ],
            "type": "contour"
           }
          ],
          "contourcarpet": [
           {
            "colorbar": {
             "outlinewidth": 0,
             "ticks": ""
            },
            "type": "contourcarpet"
           }
          ],
          "heatmap": [
           {
            "colorbar": {
             "outlinewidth": 0,
             "ticks": ""
            },
            "colorscale": [
             [
              0,
              "#0d0887"
             ],
             [
              0.1111111111111111,
              "#46039f"
             ],
             [
              0.2222222222222222,
              "#7201a8"
             ],
             [
              0.3333333333333333,
              "#9c179e"
             ],
             [
              0.4444444444444444,
              "#bd3786"
             ],
             [
              0.5555555555555556,
              "#d8576b"
             ],
             [
              0.6666666666666666,
              "#ed7953"
             ],
             [
              0.7777777777777778,
              "#fb9f3a"
             ],
             [
              0.8888888888888888,
              "#fdca26"
             ],
             [
              1,
              "#f0f921"
             ]
            ],
            "type": "heatmap"
           }
          ],
          "heatmapgl": [
           {
            "colorbar": {
             "outlinewidth": 0,
             "ticks": ""
            },
            "colorscale": [
             [
              0,
              "#0d0887"
             ],
             [
              0.1111111111111111,
              "#46039f"
             ],
             [
              0.2222222222222222,
              "#7201a8"
             ],
             [
              0.3333333333333333,
              "#9c179e"
             ],
             [
              0.4444444444444444,
              "#bd3786"
             ],
             [
              0.5555555555555556,
              "#d8576b"
             ],
             [
              0.6666666666666666,
              "#ed7953"
             ],
             [
              0.7777777777777778,
              "#fb9f3a"
             ],
             [
              0.8888888888888888,
              "#fdca26"
             ],
             [
              1,
              "#f0f921"
             ]
            ],
            "type": "heatmapgl"
           }
          ],
          "histogram": [
           {
            "marker": {
             "colorbar": {
              "outlinewidth": 0,
              "ticks": ""
             }
            },
            "type": "histogram"
           }
          ],
          "histogram2d": [
           {
            "colorbar": {
             "outlinewidth": 0,
             "ticks": ""
            },
            "colorscale": [
             [
              0,
              "#0d0887"
             ],
             [
              0.1111111111111111,
              "#46039f"
             ],
             [
              0.2222222222222222,
              "#7201a8"
             ],
             [
              0.3333333333333333,
              "#9c179e"
             ],
             [
              0.4444444444444444,
              "#bd3786"
             ],
             [
              0.5555555555555556,
              "#d8576b"
             ],
             [
              0.6666666666666666,
              "#ed7953"
             ],
             [
              0.7777777777777778,
              "#fb9f3a"
             ],
             [
              0.8888888888888888,
              "#fdca26"
             ],
             [
              1,
              "#f0f921"
             ]
            ],
            "type": "histogram2d"
           }
          ],
          "histogram2dcontour": [
           {
            "colorbar": {
             "outlinewidth": 0,
             "ticks": ""
            },
            "colorscale": [
             [
              0,
              "#0d0887"
             ],
             [
              0.1111111111111111,
              "#46039f"
             ],
             [
              0.2222222222222222,
              "#7201a8"
             ],
             [
              0.3333333333333333,
              "#9c179e"
             ],
             [
              0.4444444444444444,
              "#bd3786"
             ],
             [
              0.5555555555555556,
              "#d8576b"
             ],
             [
              0.6666666666666666,
              "#ed7953"
             ],
             [
              0.7777777777777778,
              "#fb9f3a"
             ],
             [
              0.8888888888888888,
              "#fdca26"
             ],
             [
              1,
              "#f0f921"
             ]
            ],
            "type": "histogram2dcontour"
           }
          ],
          "mesh3d": [
           {
            "colorbar": {
             "outlinewidth": 0,
             "ticks": ""
            },
            "type": "mesh3d"
           }
          ],
          "parcoords": [
           {
            "line": {
             "colorbar": {
              "outlinewidth": 0,
              "ticks": ""
             }
            },
            "type": "parcoords"
           }
          ],
          "pie": [
           {
            "automargin": true,
            "type": "pie"
           }
          ],
          "scatter": [
           {
            "marker": {
             "colorbar": {
              "outlinewidth": 0,
              "ticks": ""
             }
            },
            "type": "scatter"
           }
          ],
          "scatter3d": [
           {
            "line": {
             "colorbar": {
              "outlinewidth": 0,
              "ticks": ""
             }
            },
            "marker": {
             "colorbar": {
              "outlinewidth": 0,
              "ticks": ""
             }
            },
            "type": "scatter3d"
           }
          ],
          "scattercarpet": [
           {
            "marker": {
             "colorbar": {
              "outlinewidth": 0,
              "ticks": ""
             }
            },
            "type": "scattercarpet"
           }
          ],
          "scattergeo": [
           {
            "marker": {
             "colorbar": {
              "outlinewidth": 0,
              "ticks": ""
             }
            },
            "type": "scattergeo"
           }
          ],
          "scattergl": [
           {
            "marker": {
             "colorbar": {
              "outlinewidth": 0,
              "ticks": ""
             }
            },
            "type": "scattergl"
           }
          ],
          "scattermapbox": [
           {
            "marker": {
             "colorbar": {
              "outlinewidth": 0,
              "ticks": ""
             }
            },
            "type": "scattermapbox"
           }
          ],
          "scatterpolar": [
           {
            "marker": {
             "colorbar": {
              "outlinewidth": 0,
              "ticks": ""
             }
            },
            "type": "scatterpolar"
           }
          ],
          "scatterpolargl": [
           {
            "marker": {
             "colorbar": {
              "outlinewidth": 0,
              "ticks": ""
             }
            },
            "type": "scatterpolargl"
           }
          ],
          "scatterternary": [
           {
            "marker": {
             "colorbar": {
              "outlinewidth": 0,
              "ticks": ""
             }
            },
            "type": "scatterternary"
           }
          ],
          "surface": [
           {
            "colorbar": {
             "outlinewidth": 0,
             "ticks": ""
            },
            "colorscale": [
             [
              0,
              "#0d0887"
             ],
             [
              0.1111111111111111,
              "#46039f"
             ],
             [
              0.2222222222222222,
              "#7201a8"
             ],
             [
              0.3333333333333333,
              "#9c179e"
             ],
             [
              0.4444444444444444,
              "#bd3786"
             ],
             [
              0.5555555555555556,
              "#d8576b"
             ],
             [
              0.6666666666666666,
              "#ed7953"
             ],
             [
              0.7777777777777778,
              "#fb9f3a"
             ],
             [
              0.8888888888888888,
              "#fdca26"
             ],
             [
              1,
              "#f0f921"
             ]
            ],
            "type": "surface"
           }
          ],
          "table": [
           {
            "cells": {
             "fill": {
              "color": "#EBF0F8"
             },
             "line": {
              "color": "white"
             }
            },
            "header": {
             "fill": {
              "color": "#C8D4E3"
             },
             "line": {
              "color": "white"
             }
            },
            "type": "table"
           }
          ]
         },
         "layout": {
          "annotationdefaults": {
           "arrowcolor": "#2a3f5f",
           "arrowhead": 0,
           "arrowwidth": 1
          },
          "coloraxis": {
           "colorbar": {
            "outlinewidth": 0,
            "ticks": ""
           }
          },
          "colorscale": {
           "diverging": [
            [
             0,
             "#8e0152"
            ],
            [
             0.1,
             "#c51b7d"
            ],
            [
             0.2,
             "#de77ae"
            ],
            [
             0.3,
             "#f1b6da"
            ],
            [
             0.4,
             "#fde0ef"
            ],
            [
             0.5,
             "#f7f7f7"
            ],
            [
             0.6,
             "#e6f5d0"
            ],
            [
             0.7,
             "#b8e186"
            ],
            [
             0.8,
             "#7fbc41"
            ],
            [
             0.9,
             "#4d9221"
            ],
            [
             1,
             "#276419"
            ]
           ],
           "sequential": [
            [
             0,
             "#0d0887"
            ],
            [
             0.1111111111111111,
             "#46039f"
            ],
            [
             0.2222222222222222,
             "#7201a8"
            ],
            [
             0.3333333333333333,
             "#9c179e"
            ],
            [
             0.4444444444444444,
             "#bd3786"
            ],
            [
             0.5555555555555556,
             "#d8576b"
            ],
            [
             0.6666666666666666,
             "#ed7953"
            ],
            [
             0.7777777777777778,
             "#fb9f3a"
            ],
            [
             0.8888888888888888,
             "#fdca26"
            ],
            [
             1,
             "#f0f921"
            ]
           ],
           "sequentialminus": [
            [
             0,
             "#0d0887"
            ],
            [
             0.1111111111111111,
             "#46039f"
            ],
            [
             0.2222222222222222,
             "#7201a8"
            ],
            [
             0.3333333333333333,
             "#9c179e"
            ],
            [
             0.4444444444444444,
             "#bd3786"
            ],
            [
             0.5555555555555556,
             "#d8576b"
            ],
            [
             0.6666666666666666,
             "#ed7953"
            ],
            [
             0.7777777777777778,
             "#fb9f3a"
            ],
            [
             0.8888888888888888,
             "#fdca26"
            ],
            [
             1,
             "#f0f921"
            ]
           ]
          },
          "colorway": [
           "#636efa",
           "#EF553B",
           "#00cc96",
           "#ab63fa",
           "#FFA15A",
           "#19d3f3",
           "#FF6692",
           "#B6E880",
           "#FF97FF",
           "#FECB52"
          ],
          "font": {
           "color": "#2a3f5f"
          },
          "geo": {
           "bgcolor": "white",
           "lakecolor": "white",
           "landcolor": "#E5ECF6",
           "showlakes": true,
           "showland": true,
           "subunitcolor": "white"
          },
          "hoverlabel": {
           "align": "left"
          },
          "hovermode": "closest",
          "mapbox": {
           "style": "light"
          },
          "paper_bgcolor": "white",
          "plot_bgcolor": "#E5ECF6",
          "polar": {
           "angularaxis": {
            "gridcolor": "white",
            "linecolor": "white",
            "ticks": ""
           },
           "bgcolor": "#E5ECF6",
           "radialaxis": {
            "gridcolor": "white",
            "linecolor": "white",
            "ticks": ""
           }
          },
          "scene": {
           "xaxis": {
            "backgroundcolor": "#E5ECF6",
            "gridcolor": "white",
            "gridwidth": 2,
            "linecolor": "white",
            "showbackground": true,
            "ticks": "",
            "zerolinecolor": "white"
           },
           "yaxis": {
            "backgroundcolor": "#E5ECF6",
            "gridcolor": "white",
            "gridwidth": 2,
            "linecolor": "white",
            "showbackground": true,
            "ticks": "",
            "zerolinecolor": "white"
           },
           "zaxis": {
            "backgroundcolor": "#E5ECF6",
            "gridcolor": "white",
            "gridwidth": 2,
            "linecolor": "white",
            "showbackground": true,
            "ticks": "",
            "zerolinecolor": "white"
           }
          },
          "shapedefaults": {
           "line": {
            "color": "#2a3f5f"
           }
          },
          "ternary": {
           "aaxis": {
            "gridcolor": "white",
            "linecolor": "white",
            "ticks": ""
           },
           "baxis": {
            "gridcolor": "white",
            "linecolor": "white",
            "ticks": ""
           },
           "bgcolor": "#E5ECF6",
           "caxis": {
            "gridcolor": "white",
            "linecolor": "white",
            "ticks": ""
           }
          },
          "title": {
           "x": 0.05
          },
          "xaxis": {
           "automargin": true,
           "gridcolor": "white",
           "linecolor": "white",
           "ticks": "",
           "title": {
            "standoff": 15
           },
           "zerolinecolor": "white",
           "zerolinewidth": 2
          },
          "yaxis": {
           "automargin": true,
           "gridcolor": "white",
           "linecolor": "white",
           "ticks": "",
           "title": {
            "standoff": 15
           },
           "zerolinecolor": "white",
           "zerolinewidth": 2
          }
         }
        },
        "title": {
         "text": "Least Used Stations"
        },
        "xaxis": {
         "anchor": "y",
         "categoryarray": [
          "JFK JAMAICA CT1",
          "NEWARK C",
          "LACKAWANNA",
          "BROAD CHANNEL",
          "NEWARK HW BMEBE"
         ],
         "categoryorder": "array",
         "domain": [
          0,
          1
         ],
         "title": {
          "text": "STATION"
         }
        },
        "yaxis": {
         "anchor": "x",
         "domain": [
          0,
          1
         ],
         "title": {
          "text": "TOTAL VISITORS"
         }
        }
       }
      }
     },
     "metadata": {}
    }
   ],
   "source": [
    "fig1"
   ]
  },
  {
   "cell_type": "code",
   "execution_count": null,
   "metadata": {},
   "outputs": [],
   "source": []
  }
 ]
}