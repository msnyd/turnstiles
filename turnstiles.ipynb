{
 "metadata": {
  "language_info": {
   "codemirror_mode": {
    "name": "ipython",
    "version": 3
   },
   "file_extension": ".py",
   "mimetype": "text/x-python",
   "name": "python",
   "nbconvert_exporter": "python",
   "pygments_lexer": "ipython3",
   "version": "3.7.4-final"
  },
  "orig_nbformat": 2,
  "kernelspec": {
   "name": "Python 3.7.4 64-bit ('base': conda)",
   "display_name": "Python 3.7.4 64-bit ('base': conda)",
   "metadata": {
    "interpreter": {
     "hash": "c8267ba93549cdb7d460a56636b57cee221d2baed869af5234b2cbb539d72093"
    }
   }
  }
 },
 "nbformat": 4,
 "nbformat_minor": 2,
 "cells": [
  {
   "cell_type": "code",
   "execution_count": 32,
   "metadata": {},
   "outputs": [],
   "source": [
    "import requests\n",
    "\n",
    "url = \"http://web.mta.info/developers/data/nyct/turnstile/turnstile_161224.txt\"\n",
    "\n",
    "r = requests.get(url)\n",
    "with open('Dec242016.csv', 'w') as file:\n",
    "    file.write(r.text)\n"
   ]
  },
  {
   "cell_type": "code",
   "execution_count": 33,
   "metadata": {},
   "outputs": [],
   "source": [
    "import pandas as pd\n",
    "\n",
    "data = 'https://raw.githubusercontent.com/msnyd/turnstiles/main/Dec242016.csv'\n",
    "\n",
    "df = pd.read_csv(data)"
   ]
  },
  {
   "cell_type": "code",
   "execution_count": 34,
   "metadata": {},
   "outputs": [
    {
     "output_type": "execute_result",
     "data": {
      "text/plain": [
       "          C/A  UNIT       SCP        STATION LINENAME DIVISION        DATE  \\\n",
       "0        A002  R051  02-00-00          59 ST  NQR456W      BMT  12/17/2016   \n",
       "1        A002  R051  02-00-00          59 ST  NQR456W      BMT  12/17/2016   \n",
       "2        A002  R051  02-00-00          59 ST  NQR456W      BMT  12/17/2016   \n",
       "3        A002  R051  02-00-00          59 ST  NQR456W      BMT  12/17/2016   \n",
       "4        A002  R051  02-00-00          59 ST  NQR456W      BMT  12/17/2016   \n",
       "...       ...   ...       ...            ...      ...      ...         ...   \n",
       "192062  TRAM2  R469  00-05-01  RIT-ROOSEVELT        R      RIT  12/23/2016   \n",
       "192063  TRAM2  R469  00-05-01  RIT-ROOSEVELT        R      RIT  12/23/2016   \n",
       "192064  TRAM2  R469  00-05-01  RIT-ROOSEVELT        R      RIT  12/23/2016   \n",
       "192065  TRAM2  R469  00-05-01  RIT-ROOSEVELT        R      RIT  12/23/2016   \n",
       "192066  TRAM2  R469  00-05-01  RIT-ROOSEVELT        R      RIT  12/23/2016   \n",
       "\n",
       "            TIME     DESC  ENTRIES    EXITS  \n",
       "0       03:00:00  REGULAR  5967477  2022101  \n",
       "1       07:00:00  REGULAR  5967485  2022116  \n",
       "2       11:00:00  REGULAR  5967553  2022233  \n",
       "3       15:00:00  REGULAR  5967790  2022331  \n",
       "4       19:00:00  REGULAR  5968186  2022421  \n",
       "...          ...      ...      ...      ...  \n",
       "192062  04:00:00  REGULAR     5554      283  \n",
       "192063  08:00:00  REGULAR     5554      283  \n",
       "192064  12:00:00  REGULAR     5554      283  \n",
       "192065  16:00:00  REGULAR     5554      283  \n",
       "192066  20:00:00  REGULAR     5554      283  \n",
       "\n",
       "[192067 rows x 11 columns]"
      ],
      "text/html": "<div>\n<style scoped>\n    .dataframe tbody tr th:only-of-type {\n        vertical-align: middle;\n    }\n\n    .dataframe tbody tr th {\n        vertical-align: top;\n    }\n\n    .dataframe thead th {\n        text-align: right;\n    }\n</style>\n<table border=\"1\" class=\"dataframe\">\n  <thead>\n    <tr style=\"text-align: right;\">\n      <th></th>\n      <th>C/A</th>\n      <th>UNIT</th>\n      <th>SCP</th>\n      <th>STATION</th>\n      <th>LINENAME</th>\n      <th>DIVISION</th>\n      <th>DATE</th>\n      <th>TIME</th>\n      <th>DESC</th>\n      <th>ENTRIES</th>\n      <th>EXITS</th>\n    </tr>\n  </thead>\n  <tbody>\n    <tr>\n      <th>0</th>\n      <td>A002</td>\n      <td>R051</td>\n      <td>02-00-00</td>\n      <td>59 ST</td>\n      <td>NQR456W</td>\n      <td>BMT</td>\n      <td>12/17/2016</td>\n      <td>03:00:00</td>\n      <td>REGULAR</td>\n      <td>5967477</td>\n      <td>2022101</td>\n    </tr>\n    <tr>\n      <th>1</th>\n      <td>A002</td>\n      <td>R051</td>\n      <td>02-00-00</td>\n      <td>59 ST</td>\n      <td>NQR456W</td>\n      <td>BMT</td>\n      <td>12/17/2016</td>\n      <td>07:00:00</td>\n      <td>REGULAR</td>\n      <td>5967485</td>\n      <td>2022116</td>\n    </tr>\n    <tr>\n      <th>2</th>\n      <td>A002</td>\n      <td>R051</td>\n      <td>02-00-00</td>\n      <td>59 ST</td>\n      <td>NQR456W</td>\n      <td>BMT</td>\n      <td>12/17/2016</td>\n      <td>11:00:00</td>\n      <td>REGULAR</td>\n      <td>5967553</td>\n      <td>2022233</td>\n    </tr>\n    <tr>\n      <th>3</th>\n      <td>A002</td>\n      <td>R051</td>\n      <td>02-00-00</td>\n      <td>59 ST</td>\n      <td>NQR456W</td>\n      <td>BMT</td>\n      <td>12/17/2016</td>\n      <td>15:00:00</td>\n      <td>REGULAR</td>\n      <td>5967790</td>\n      <td>2022331</td>\n    </tr>\n    <tr>\n      <th>4</th>\n      <td>A002</td>\n      <td>R051</td>\n      <td>02-00-00</td>\n      <td>59 ST</td>\n      <td>NQR456W</td>\n      <td>BMT</td>\n      <td>12/17/2016</td>\n      <td>19:00:00</td>\n      <td>REGULAR</td>\n      <td>5968186</td>\n      <td>2022421</td>\n    </tr>\n    <tr>\n      <th>...</th>\n      <td>...</td>\n      <td>...</td>\n      <td>...</td>\n      <td>...</td>\n      <td>...</td>\n      <td>...</td>\n      <td>...</td>\n      <td>...</td>\n      <td>...</td>\n      <td>...</td>\n      <td>...</td>\n    </tr>\n    <tr>\n      <th>192062</th>\n      <td>TRAM2</td>\n      <td>R469</td>\n      <td>00-05-01</td>\n      <td>RIT-ROOSEVELT</td>\n      <td>R</td>\n      <td>RIT</td>\n      <td>12/23/2016</td>\n      <td>04:00:00</td>\n      <td>REGULAR</td>\n      <td>5554</td>\n      <td>283</td>\n    </tr>\n    <tr>\n      <th>192063</th>\n      <td>TRAM2</td>\n      <td>R469</td>\n      <td>00-05-01</td>\n      <td>RIT-ROOSEVELT</td>\n      <td>R</td>\n      <td>RIT</td>\n      <td>12/23/2016</td>\n      <td>08:00:00</td>\n      <td>REGULAR</td>\n      <td>5554</td>\n      <td>283</td>\n    </tr>\n    <tr>\n      <th>192064</th>\n      <td>TRAM2</td>\n      <td>R469</td>\n      <td>00-05-01</td>\n      <td>RIT-ROOSEVELT</td>\n      <td>R</td>\n      <td>RIT</td>\n      <td>12/23/2016</td>\n      <td>12:00:00</td>\n      <td>REGULAR</td>\n      <td>5554</td>\n      <td>283</td>\n    </tr>\n    <tr>\n      <th>192065</th>\n      <td>TRAM2</td>\n      <td>R469</td>\n      <td>00-05-01</td>\n      <td>RIT-ROOSEVELT</td>\n      <td>R</td>\n      <td>RIT</td>\n      <td>12/23/2016</td>\n      <td>16:00:00</td>\n      <td>REGULAR</td>\n      <td>5554</td>\n      <td>283</td>\n    </tr>\n    <tr>\n      <th>192066</th>\n      <td>TRAM2</td>\n      <td>R469</td>\n      <td>00-05-01</td>\n      <td>RIT-ROOSEVELT</td>\n      <td>R</td>\n      <td>RIT</td>\n      <td>12/23/2016</td>\n      <td>20:00:00</td>\n      <td>REGULAR</td>\n      <td>5554</td>\n      <td>283</td>\n    </tr>\n  </tbody>\n</table>\n<p>192067 rows × 11 columns</p>\n</div>"
     },
     "metadata": {},
     "execution_count": 34
    }
   ],
   "source": [
    "df"
   ]
  },
  {
   "cell_type": "code",
   "execution_count": 35,
   "metadata": {},
   "outputs": [
    {
     "output_type": "execute_result",
     "data": {
      "text/plain": [
       "         C/A  UNIT       SCP      STATION LINENAME DIVISION        DATE  \\\n",
       "120624  R116  R030  00-00-02  CHAMBERS ST      123      IRT  12/23/2016   \n",
       "120623  R116  R030  00-00-02  CHAMBERS ST      123      IRT  12/23/2016   \n",
       "120622  R116  R030  00-00-02  CHAMBERS ST      123      IRT  12/23/2016   \n",
       "120621  R116  R030  00-00-02  CHAMBERS ST      123      IRT  12/23/2016   \n",
       "120620  R116  R030  00-00-02  CHAMBERS ST      123      IRT  12/23/2016   \n",
       "\n",
       "            TIME     DESC     ENTRIES       EXITS  \n",
       "120624  23:00:00  REGULAR  2114941863  1712043670  \n",
       "120623  19:00:00  REGULAR  2114941768  1712043602  \n",
       "120622  15:00:00  REGULAR  2114941377  1712043429  \n",
       "120621  11:00:00  REGULAR  2114941135  1712043194  \n",
       "120620  07:00:00  REGULAR  2114941041  1712042881  "
      ],
      "text/html": "<div>\n<style scoped>\n    .dataframe tbody tr th:only-of-type {\n        vertical-align: middle;\n    }\n\n    .dataframe tbody tr th {\n        vertical-align: top;\n    }\n\n    .dataframe thead th {\n        text-align: right;\n    }\n</style>\n<table border=\"1\" class=\"dataframe\">\n  <thead>\n    <tr style=\"text-align: right;\">\n      <th></th>\n      <th>C/A</th>\n      <th>UNIT</th>\n      <th>SCP</th>\n      <th>STATION</th>\n      <th>LINENAME</th>\n      <th>DIVISION</th>\n      <th>DATE</th>\n      <th>TIME</th>\n      <th>DESC</th>\n      <th>ENTRIES</th>\n      <th>EXITS</th>\n    </tr>\n  </thead>\n  <tbody>\n    <tr>\n      <th>120624</th>\n      <td>R116</td>\n      <td>R030</td>\n      <td>00-00-02</td>\n      <td>CHAMBERS ST</td>\n      <td>123</td>\n      <td>IRT</td>\n      <td>12/23/2016</td>\n      <td>23:00:00</td>\n      <td>REGULAR</td>\n      <td>2114941863</td>\n      <td>1712043670</td>\n    </tr>\n    <tr>\n      <th>120623</th>\n      <td>R116</td>\n      <td>R030</td>\n      <td>00-00-02</td>\n      <td>CHAMBERS ST</td>\n      <td>123</td>\n      <td>IRT</td>\n      <td>12/23/2016</td>\n      <td>19:00:00</td>\n      <td>REGULAR</td>\n      <td>2114941768</td>\n      <td>1712043602</td>\n    </tr>\n    <tr>\n      <th>120622</th>\n      <td>R116</td>\n      <td>R030</td>\n      <td>00-00-02</td>\n      <td>CHAMBERS ST</td>\n      <td>123</td>\n      <td>IRT</td>\n      <td>12/23/2016</td>\n      <td>15:00:00</td>\n      <td>REGULAR</td>\n      <td>2114941377</td>\n      <td>1712043429</td>\n    </tr>\n    <tr>\n      <th>120621</th>\n      <td>R116</td>\n      <td>R030</td>\n      <td>00-00-02</td>\n      <td>CHAMBERS ST</td>\n      <td>123</td>\n      <td>IRT</td>\n      <td>12/23/2016</td>\n      <td>11:00:00</td>\n      <td>REGULAR</td>\n      <td>2114941135</td>\n      <td>1712043194</td>\n    </tr>\n    <tr>\n      <th>120620</th>\n      <td>R116</td>\n      <td>R030</td>\n      <td>00-00-02</td>\n      <td>CHAMBERS ST</td>\n      <td>123</td>\n      <td>IRT</td>\n      <td>12/23/2016</td>\n      <td>07:00:00</td>\n      <td>REGULAR</td>\n      <td>2114941041</td>\n      <td>1712042881</td>\n    </tr>\n  </tbody>\n</table>\n</div>"
     },
     "metadata": {},
     "execution_count": 35
    }
   ],
   "source": [
    "df.sort_values(by='ENTRIES', ascending=False).head(5)"
   ]
  },
  {
   "cell_type": "code",
   "execution_count": 36,
   "metadata": {},
   "outputs": [
    {
     "output_type": "execute_result",
     "data": {
      "text/plain": [
       "369"
      ]
     },
     "metadata": {},
     "execution_count": 36
    }
   ],
   "source": [
    "df['STATION'].nunique()"
   ]
  },
  {
   "cell_type": "code",
   "execution_count": 37,
   "metadata": {},
   "outputs": [],
   "source": [
    "df['TOTAL_VISITS'] = df['ENTRIES'] + df['EXITS']"
   ]
  },
  {
   "cell_type": "code",
   "execution_count": 38,
   "metadata": {},
   "outputs": [
    {
     "output_type": "execute_result",
     "data": {
      "text/plain": [
       "          C/A  UNIT       SCP        STATION LINENAME DIVISION        DATE  \\\n",
       "0        A002  R051  02-00-00          59 ST  NQR456W      BMT  12/17/2016   \n",
       "1        A002  R051  02-00-00          59 ST  NQR456W      BMT  12/17/2016   \n",
       "2        A002  R051  02-00-00          59 ST  NQR456W      BMT  12/17/2016   \n",
       "3        A002  R051  02-00-00          59 ST  NQR456W      BMT  12/17/2016   \n",
       "4        A002  R051  02-00-00          59 ST  NQR456W      BMT  12/17/2016   \n",
       "...       ...   ...       ...            ...      ...      ...         ...   \n",
       "192062  TRAM2  R469  00-05-01  RIT-ROOSEVELT        R      RIT  12/23/2016   \n",
       "192063  TRAM2  R469  00-05-01  RIT-ROOSEVELT        R      RIT  12/23/2016   \n",
       "192064  TRAM2  R469  00-05-01  RIT-ROOSEVELT        R      RIT  12/23/2016   \n",
       "192065  TRAM2  R469  00-05-01  RIT-ROOSEVELT        R      RIT  12/23/2016   \n",
       "192066  TRAM2  R469  00-05-01  RIT-ROOSEVELT        R      RIT  12/23/2016   \n",
       "\n",
       "            TIME     DESC  ENTRIES    EXITS  TOTAL_VISITS  \n",
       "0       03:00:00  REGULAR  5967477  2022101       7989578  \n",
       "1       07:00:00  REGULAR  5967485  2022116       7989601  \n",
       "2       11:00:00  REGULAR  5967553  2022233       7989786  \n",
       "3       15:00:00  REGULAR  5967790  2022331       7990121  \n",
       "4       19:00:00  REGULAR  5968186  2022421       7990607  \n",
       "...          ...      ...      ...      ...           ...  \n",
       "192062  04:00:00  REGULAR     5554      283          5837  \n",
       "192063  08:00:00  REGULAR     5554      283          5837  \n",
       "192064  12:00:00  REGULAR     5554      283          5837  \n",
       "192065  16:00:00  REGULAR     5554      283          5837  \n",
       "192066  20:00:00  REGULAR     5554      283          5837  \n",
       "\n",
       "[192067 rows x 12 columns]"
      ],
      "text/html": "<div>\n<style scoped>\n    .dataframe tbody tr th:only-of-type {\n        vertical-align: middle;\n    }\n\n    .dataframe tbody tr th {\n        vertical-align: top;\n    }\n\n    .dataframe thead th {\n        text-align: right;\n    }\n</style>\n<table border=\"1\" class=\"dataframe\">\n  <thead>\n    <tr style=\"text-align: right;\">\n      <th></th>\n      <th>C/A</th>\n      <th>UNIT</th>\n      <th>SCP</th>\n      <th>STATION</th>\n      <th>LINENAME</th>\n      <th>DIVISION</th>\n      <th>DATE</th>\n      <th>TIME</th>\n      <th>DESC</th>\n      <th>ENTRIES</th>\n      <th>EXITS</th>\n      <th>TOTAL_VISITS</th>\n    </tr>\n  </thead>\n  <tbody>\n    <tr>\n      <th>0</th>\n      <td>A002</td>\n      <td>R051</td>\n      <td>02-00-00</td>\n      <td>59 ST</td>\n      <td>NQR456W</td>\n      <td>BMT</td>\n      <td>12/17/2016</td>\n      <td>03:00:00</td>\n      <td>REGULAR</td>\n      <td>5967477</td>\n      <td>2022101</td>\n      <td>7989578</td>\n    </tr>\n    <tr>\n      <th>1</th>\n      <td>A002</td>\n      <td>R051</td>\n      <td>02-00-00</td>\n      <td>59 ST</td>\n      <td>NQR456W</td>\n      <td>BMT</td>\n      <td>12/17/2016</td>\n      <td>07:00:00</td>\n      <td>REGULAR</td>\n      <td>5967485</td>\n      <td>2022116</td>\n      <td>7989601</td>\n    </tr>\n    <tr>\n      <th>2</th>\n      <td>A002</td>\n      <td>R051</td>\n      <td>02-00-00</td>\n      <td>59 ST</td>\n      <td>NQR456W</td>\n      <td>BMT</td>\n      <td>12/17/2016</td>\n      <td>11:00:00</td>\n      <td>REGULAR</td>\n      <td>5967553</td>\n      <td>2022233</td>\n      <td>7989786</td>\n    </tr>\n    <tr>\n      <th>3</th>\n      <td>A002</td>\n      <td>R051</td>\n      <td>02-00-00</td>\n      <td>59 ST</td>\n      <td>NQR456W</td>\n      <td>BMT</td>\n      <td>12/17/2016</td>\n      <td>15:00:00</td>\n      <td>REGULAR</td>\n      <td>5967790</td>\n      <td>2022331</td>\n      <td>7990121</td>\n    </tr>\n    <tr>\n      <th>4</th>\n      <td>A002</td>\n      <td>R051</td>\n      <td>02-00-00</td>\n      <td>59 ST</td>\n      <td>NQR456W</td>\n      <td>BMT</td>\n      <td>12/17/2016</td>\n      <td>19:00:00</td>\n      <td>REGULAR</td>\n      <td>5968186</td>\n      <td>2022421</td>\n      <td>7990607</td>\n    </tr>\n    <tr>\n      <th>...</th>\n      <td>...</td>\n      <td>...</td>\n      <td>...</td>\n      <td>...</td>\n      <td>...</td>\n      <td>...</td>\n      <td>...</td>\n      <td>...</td>\n      <td>...</td>\n      <td>...</td>\n      <td>...</td>\n      <td>...</td>\n    </tr>\n    <tr>\n      <th>192062</th>\n      <td>TRAM2</td>\n      <td>R469</td>\n      <td>00-05-01</td>\n      <td>RIT-ROOSEVELT</td>\n      <td>R</td>\n      <td>RIT</td>\n      <td>12/23/2016</td>\n      <td>04:00:00</td>\n      <td>REGULAR</td>\n      <td>5554</td>\n      <td>283</td>\n      <td>5837</td>\n    </tr>\n    <tr>\n      <th>192063</th>\n      <td>TRAM2</td>\n      <td>R469</td>\n      <td>00-05-01</td>\n      <td>RIT-ROOSEVELT</td>\n      <td>R</td>\n      <td>RIT</td>\n      <td>12/23/2016</td>\n      <td>08:00:00</td>\n      <td>REGULAR</td>\n      <td>5554</td>\n      <td>283</td>\n      <td>5837</td>\n    </tr>\n    <tr>\n      <th>192064</th>\n      <td>TRAM2</td>\n      <td>R469</td>\n      <td>00-05-01</td>\n      <td>RIT-ROOSEVELT</td>\n      <td>R</td>\n      <td>RIT</td>\n      <td>12/23/2016</td>\n      <td>12:00:00</td>\n      <td>REGULAR</td>\n      <td>5554</td>\n      <td>283</td>\n      <td>5837</td>\n    </tr>\n    <tr>\n      <th>192065</th>\n      <td>TRAM2</td>\n      <td>R469</td>\n      <td>00-05-01</td>\n      <td>RIT-ROOSEVELT</td>\n      <td>R</td>\n      <td>RIT</td>\n      <td>12/23/2016</td>\n      <td>16:00:00</td>\n      <td>REGULAR</td>\n      <td>5554</td>\n      <td>283</td>\n      <td>5837</td>\n    </tr>\n    <tr>\n      <th>192066</th>\n      <td>TRAM2</td>\n      <td>R469</td>\n      <td>00-05-01</td>\n      <td>RIT-ROOSEVELT</td>\n      <td>R</td>\n      <td>RIT</td>\n      <td>12/23/2016</td>\n      <td>20:00:00</td>\n      <td>REGULAR</td>\n      <td>5554</td>\n      <td>283</td>\n      <td>5837</td>\n    </tr>\n  </tbody>\n</table>\n<p>192067 rows × 12 columns</p>\n</div>"
     },
     "metadata": {},
     "execution_count": 38
    }
   ],
   "source": [
    "df"
   ]
  },
  {
   "cell_type": "code",
   "execution_count": 39,
   "metadata": {},
   "outputs": [],
   "source": [
    "# import requests\n",
    "\n",
    "# url = \"http://web.mta.info/developers/data/nyct/turnstile/turnstile_120107.txt\"\n",
    "\n",
    "# r = requests.get(url)\n",
    "# with open('Jan072012.csv', 'w') as file:\n",
    "#     file.write(r.text)\n",
    "\n",
    "# Files before mid October 2014 don't give me a station so I'm just making a graph from the first question: Dec 24, 2016"
   ]
  },
  {
   "cell_type": "code",
   "execution_count": 40,
   "metadata": {},
   "outputs": [
    {
     "output_type": "execute_result",
     "data": {
      "text/plain": [
       "         C/A  UNIT       SCP      STATION LINENAME DIVISION        DATE  \\\n",
       "120624  R116  R030  00-00-02  CHAMBERS ST      123      IRT  12/23/2016   \n",
       "120623  R116  R030  00-00-02  CHAMBERS ST      123      IRT  12/23/2016   \n",
       "120622  R116  R030  00-00-02  CHAMBERS ST      123      IRT  12/23/2016   \n",
       "120621  R116  R030  00-00-02  CHAMBERS ST      123      IRT  12/23/2016   \n",
       "120620  R116  R030  00-00-02  CHAMBERS ST      123      IRT  12/23/2016   \n",
       "\n",
       "            TIME     DESC     ENTRIES       EXITS  TOTAL_VISITS  \n",
       "120624  23:00:00  REGULAR  2114941863  1712043670    3826985533  \n",
       "120623  19:00:00  REGULAR  2114941768  1712043602    3826985370  \n",
       "120622  15:00:00  REGULAR  2114941377  1712043429    3826984806  \n",
       "120621  11:00:00  REGULAR  2114941135  1712043194    3826984329  \n",
       "120620  07:00:00  REGULAR  2114941041  1712042881    3826983922  "
      ],
      "text/html": "<div>\n<style scoped>\n    .dataframe tbody tr th:only-of-type {\n        vertical-align: middle;\n    }\n\n    .dataframe tbody tr th {\n        vertical-align: top;\n    }\n\n    .dataframe thead th {\n        text-align: right;\n    }\n</style>\n<table border=\"1\" class=\"dataframe\">\n  <thead>\n    <tr style=\"text-align: right;\">\n      <th></th>\n      <th>C/A</th>\n      <th>UNIT</th>\n      <th>SCP</th>\n      <th>STATION</th>\n      <th>LINENAME</th>\n      <th>DIVISION</th>\n      <th>DATE</th>\n      <th>TIME</th>\n      <th>DESC</th>\n      <th>ENTRIES</th>\n      <th>EXITS</th>\n      <th>TOTAL_VISITS</th>\n    </tr>\n  </thead>\n  <tbody>\n    <tr>\n      <th>120624</th>\n      <td>R116</td>\n      <td>R030</td>\n      <td>00-00-02</td>\n      <td>CHAMBERS ST</td>\n      <td>123</td>\n      <td>IRT</td>\n      <td>12/23/2016</td>\n      <td>23:00:00</td>\n      <td>REGULAR</td>\n      <td>2114941863</td>\n      <td>1712043670</td>\n      <td>3826985533</td>\n    </tr>\n    <tr>\n      <th>120623</th>\n      <td>R116</td>\n      <td>R030</td>\n      <td>00-00-02</td>\n      <td>CHAMBERS ST</td>\n      <td>123</td>\n      <td>IRT</td>\n      <td>12/23/2016</td>\n      <td>19:00:00</td>\n      <td>REGULAR</td>\n      <td>2114941768</td>\n      <td>1712043602</td>\n      <td>3826985370</td>\n    </tr>\n    <tr>\n      <th>120622</th>\n      <td>R116</td>\n      <td>R030</td>\n      <td>00-00-02</td>\n      <td>CHAMBERS ST</td>\n      <td>123</td>\n      <td>IRT</td>\n      <td>12/23/2016</td>\n      <td>15:00:00</td>\n      <td>REGULAR</td>\n      <td>2114941377</td>\n      <td>1712043429</td>\n      <td>3826984806</td>\n    </tr>\n    <tr>\n      <th>120621</th>\n      <td>R116</td>\n      <td>R030</td>\n      <td>00-00-02</td>\n      <td>CHAMBERS ST</td>\n      <td>123</td>\n      <td>IRT</td>\n      <td>12/23/2016</td>\n      <td>11:00:00</td>\n      <td>REGULAR</td>\n      <td>2114941135</td>\n      <td>1712043194</td>\n      <td>3826984329</td>\n    </tr>\n    <tr>\n      <th>120620</th>\n      <td>R116</td>\n      <td>R030</td>\n      <td>00-00-02</td>\n      <td>CHAMBERS ST</td>\n      <td>123</td>\n      <td>IRT</td>\n      <td>12/23/2016</td>\n      <td>07:00:00</td>\n      <td>REGULAR</td>\n      <td>2114941041</td>\n      <td>1712042881</td>\n      <td>3826983922</td>\n    </tr>\n  </tbody>\n</table>\n</div>"
     },
     "metadata": {},
     "execution_count": 40
    }
   ],
   "source": [
    "df.sort_values(by='ENTRIES', ascending=False).head(5)"
   ]
  },
  {
   "cell_type": "code",
   "execution_count": 41,
   "metadata": {},
   "outputs": [],
   "source": [
    "df = df.groupby([\"STATION\"]).max()"
   ]
  },
  {
   "cell_type": "code",
   "execution_count": 42,
   "metadata": {},
   "outputs": [
    {
     "output_type": "execute_result",
     "data": {
      "text/plain": [
       "                   C/A  UNIT       SCP LINENAME DIVISION        DATE  \\\n",
       "STATION                                                                \n",
       "1 AV              H008  R248  01-00-04        L      BMT  12/23/2016   \n",
       "103 ST            R252  R314  00-03-02       BC      IRT  12/23/2016   \n",
       "103 ST-CORONA     R529  R208  00-06-01        7      IRT  12/23/2016   \n",
       "104 ST            N137  R354  00-06-01       JZ      IND  12/23/2016   \n",
       "110 ST            R254  R181  01-00-02        6      IRT  12/23/2016   \n",
       "...                ...   ...       ...      ...      ...         ...   \n",
       "WOODHAVEN BLVD   N329A  R201  01-06-01       MR      IND  12/23/2016   \n",
       "WOODLAWN          R294  R052  00-00-04        4      IRT  12/23/2016   \n",
       "WORLD TRADE CTR   N094  R029  01-06-04    ACE23      IND  12/23/2016   \n",
       "YORK ST           N530  R301  00-00-02        F      IND  12/23/2016   \n",
       "ZEREGA AV         R419  R326  00-05-01        6      IRT  12/23/2016   \n",
       "\n",
       "                     TIME     DESC     ENTRIES       EXITS  TOTAL_VISITS  \n",
       "STATION                                                                   \n",
       "1 AV             23:00:00  REGULAR   953280807   997476480    1950757287  \n",
       "103 ST           20:00:00  REGULAR    34520875   504112690     538633565  \n",
       "103 ST-CORONA    23:00:00  REGULAR    14179440    22448970      36628410  \n",
       "104 ST           23:00:00  REGULAR  2026052624  1907580672    3028648753  \n",
       "110 ST           23:00:00  REGULAR    12200097    10561808      16183874  \n",
       "...                   ...      ...         ...         ...           ...  \n",
       "WOODHAVEN BLVD   23:00:00  REGULAR    67108864    50331664     117440528  \n",
       "WOODLAWN         23:00:00  REGULAR     6945536     6110626      12793250  \n",
       "WORLD TRADE CTR  23:00:00  REGULAR     8766350     6306717      15073067  \n",
       "YORK ST          20:00:00  REGULAR    12580764    22816023      35069704  \n",
       "ZEREGA AV        20:00:00  REGULAR    53123672      611940      53735612  \n",
       "\n",
       "[369 rows x 11 columns]"
      ],
      "text/html": "<div>\n<style scoped>\n    .dataframe tbody tr th:only-of-type {\n        vertical-align: middle;\n    }\n\n    .dataframe tbody tr th {\n        vertical-align: top;\n    }\n\n    .dataframe thead th {\n        text-align: right;\n    }\n</style>\n<table border=\"1\" class=\"dataframe\">\n  <thead>\n    <tr style=\"text-align: right;\">\n      <th></th>\n      <th>C/A</th>\n      <th>UNIT</th>\n      <th>SCP</th>\n      <th>LINENAME</th>\n      <th>DIVISION</th>\n      <th>DATE</th>\n      <th>TIME</th>\n      <th>DESC</th>\n      <th>ENTRIES</th>\n      <th>EXITS</th>\n      <th>TOTAL_VISITS</th>\n    </tr>\n    <tr>\n      <th>STATION</th>\n      <th></th>\n      <th></th>\n      <th></th>\n      <th></th>\n      <th></th>\n      <th></th>\n      <th></th>\n      <th></th>\n      <th></th>\n      <th></th>\n      <th></th>\n    </tr>\n  </thead>\n  <tbody>\n    <tr>\n      <th>1 AV</th>\n      <td>H008</td>\n      <td>R248</td>\n      <td>01-00-04</td>\n      <td>L</td>\n      <td>BMT</td>\n      <td>12/23/2016</td>\n      <td>23:00:00</td>\n      <td>REGULAR</td>\n      <td>953280807</td>\n      <td>997476480</td>\n      <td>1950757287</td>\n    </tr>\n    <tr>\n      <th>103 ST</th>\n      <td>R252</td>\n      <td>R314</td>\n      <td>00-03-02</td>\n      <td>BC</td>\n      <td>IRT</td>\n      <td>12/23/2016</td>\n      <td>20:00:00</td>\n      <td>REGULAR</td>\n      <td>34520875</td>\n      <td>504112690</td>\n      <td>538633565</td>\n    </tr>\n    <tr>\n      <th>103 ST-CORONA</th>\n      <td>R529</td>\n      <td>R208</td>\n      <td>00-06-01</td>\n      <td>7</td>\n      <td>IRT</td>\n      <td>12/23/2016</td>\n      <td>23:00:00</td>\n      <td>REGULAR</td>\n      <td>14179440</td>\n      <td>22448970</td>\n      <td>36628410</td>\n    </tr>\n    <tr>\n      <th>104 ST</th>\n      <td>N137</td>\n      <td>R354</td>\n      <td>00-06-01</td>\n      <td>JZ</td>\n      <td>IND</td>\n      <td>12/23/2016</td>\n      <td>23:00:00</td>\n      <td>REGULAR</td>\n      <td>2026052624</td>\n      <td>1907580672</td>\n      <td>3028648753</td>\n    </tr>\n    <tr>\n      <th>110 ST</th>\n      <td>R254</td>\n      <td>R181</td>\n      <td>01-00-02</td>\n      <td>6</td>\n      <td>IRT</td>\n      <td>12/23/2016</td>\n      <td>23:00:00</td>\n      <td>REGULAR</td>\n      <td>12200097</td>\n      <td>10561808</td>\n      <td>16183874</td>\n    </tr>\n    <tr>\n      <th>...</th>\n      <td>...</td>\n      <td>...</td>\n      <td>...</td>\n      <td>...</td>\n      <td>...</td>\n      <td>...</td>\n      <td>...</td>\n      <td>...</td>\n      <td>...</td>\n      <td>...</td>\n      <td>...</td>\n    </tr>\n    <tr>\n      <th>WOODHAVEN BLVD</th>\n      <td>N329A</td>\n      <td>R201</td>\n      <td>01-06-01</td>\n      <td>MR</td>\n      <td>IND</td>\n      <td>12/23/2016</td>\n      <td>23:00:00</td>\n      <td>REGULAR</td>\n      <td>67108864</td>\n      <td>50331664</td>\n      <td>117440528</td>\n    </tr>\n    <tr>\n      <th>WOODLAWN</th>\n      <td>R294</td>\n      <td>R052</td>\n      <td>00-00-04</td>\n      <td>4</td>\n      <td>IRT</td>\n      <td>12/23/2016</td>\n      <td>23:00:00</td>\n      <td>REGULAR</td>\n      <td>6945536</td>\n      <td>6110626</td>\n      <td>12793250</td>\n    </tr>\n    <tr>\n      <th>WORLD TRADE CTR</th>\n      <td>N094</td>\n      <td>R029</td>\n      <td>01-06-04</td>\n      <td>ACE23</td>\n      <td>IND</td>\n      <td>12/23/2016</td>\n      <td>23:00:00</td>\n      <td>REGULAR</td>\n      <td>8766350</td>\n      <td>6306717</td>\n      <td>15073067</td>\n    </tr>\n    <tr>\n      <th>YORK ST</th>\n      <td>N530</td>\n      <td>R301</td>\n      <td>00-00-02</td>\n      <td>F</td>\n      <td>IND</td>\n      <td>12/23/2016</td>\n      <td>20:00:00</td>\n      <td>REGULAR</td>\n      <td>12580764</td>\n      <td>22816023</td>\n      <td>35069704</td>\n    </tr>\n    <tr>\n      <th>ZEREGA AV</th>\n      <td>R419</td>\n      <td>R326</td>\n      <td>00-05-01</td>\n      <td>6</td>\n      <td>IRT</td>\n      <td>12/23/2016</td>\n      <td>20:00:00</td>\n      <td>REGULAR</td>\n      <td>53123672</td>\n      <td>611940</td>\n      <td>53735612</td>\n    </tr>\n  </tbody>\n</table>\n<p>369 rows × 11 columns</p>\n</div>"
     },
     "metadata": {},
     "execution_count": 42
    }
   ],
   "source": [
    "df"
   ]
  },
  {
   "cell_type": "code",
   "execution_count": 43,
   "metadata": {},
   "outputs": [],
   "source": [
    "df = df.sort_values(by='TOTAL_VISITS', ascending=True).head(5)\n"
   ]
  },
  {
   "cell_type": "code",
   "execution_count": 44,
   "metadata": {},
   "outputs": [
    {
     "output_type": "execute_result",
     "data": {
      "text/plain": [
       "                   C/A  UNIT       SCP LINENAME DIVISION        DATE  \\\n",
       "STATION                                                                \n",
       "JFK JAMAICA CT1  JFK03  R536  00-03-04        E      IND  12/23/2016   \n",
       "NEWARK C         PTH19  R549  02-02-04        1      PTH  12/23/2016   \n",
       "LACKAWANNA       PTH16  R550  01-02-04        1      PTH  12/23/2016   \n",
       "BROAD CHANNEL     N183  R415  00-00-02       AS      IND  12/23/2016   \n",
       "NEWARK HW BMEBE  PTH01  R549  00-01-06        1      PTH  12/23/2016   \n",
       "\n",
       "                     TIME     DESC  ENTRIES    EXITS  TOTAL_VISITS  \n",
       "STATION                                                             \n",
       "JFK JAMAICA CT1  20:00:00  REGULAR   110676   116204        219292  \n",
       "NEWARK C         23:59:15  REGULAR   427512   167115        454624  \n",
       "LACKAWANNA       23:59:49  REGULAR   379560   592509        829895  \n",
       "BROAD CHANNEL    20:00:00  REGULAR   928422   482169       1148771  \n",
       "NEWARK HW BMEBE  23:59:23  REGULAR   657540  1168825       1171564  "
      ],
      "text/html": "<div>\n<style scoped>\n    .dataframe tbody tr th:only-of-type {\n        vertical-align: middle;\n    }\n\n    .dataframe tbody tr th {\n        vertical-align: top;\n    }\n\n    .dataframe thead th {\n        text-align: right;\n    }\n</style>\n<table border=\"1\" class=\"dataframe\">\n  <thead>\n    <tr style=\"text-align: right;\">\n      <th></th>\n      <th>C/A</th>\n      <th>UNIT</th>\n      <th>SCP</th>\n      <th>LINENAME</th>\n      <th>DIVISION</th>\n      <th>DATE</th>\n      <th>TIME</th>\n      <th>DESC</th>\n      <th>ENTRIES</th>\n      <th>EXITS</th>\n      <th>TOTAL_VISITS</th>\n    </tr>\n    <tr>\n      <th>STATION</th>\n      <th></th>\n      <th></th>\n      <th></th>\n      <th></th>\n      <th></th>\n      <th></th>\n      <th></th>\n      <th></th>\n      <th></th>\n      <th></th>\n      <th></th>\n    </tr>\n  </thead>\n  <tbody>\n    <tr>\n      <th>JFK JAMAICA CT1</th>\n      <td>JFK03</td>\n      <td>R536</td>\n      <td>00-03-04</td>\n      <td>E</td>\n      <td>IND</td>\n      <td>12/23/2016</td>\n      <td>20:00:00</td>\n      <td>REGULAR</td>\n      <td>110676</td>\n      <td>116204</td>\n      <td>219292</td>\n    </tr>\n    <tr>\n      <th>NEWARK C</th>\n      <td>PTH19</td>\n      <td>R549</td>\n      <td>02-02-04</td>\n      <td>1</td>\n      <td>PTH</td>\n      <td>12/23/2016</td>\n      <td>23:59:15</td>\n      <td>REGULAR</td>\n      <td>427512</td>\n      <td>167115</td>\n      <td>454624</td>\n    </tr>\n    <tr>\n      <th>LACKAWANNA</th>\n      <td>PTH16</td>\n      <td>R550</td>\n      <td>01-02-04</td>\n      <td>1</td>\n      <td>PTH</td>\n      <td>12/23/2016</td>\n      <td>23:59:49</td>\n      <td>REGULAR</td>\n      <td>379560</td>\n      <td>592509</td>\n      <td>829895</td>\n    </tr>\n    <tr>\n      <th>BROAD CHANNEL</th>\n      <td>N183</td>\n      <td>R415</td>\n      <td>00-00-02</td>\n      <td>AS</td>\n      <td>IND</td>\n      <td>12/23/2016</td>\n      <td>20:00:00</td>\n      <td>REGULAR</td>\n      <td>928422</td>\n      <td>482169</td>\n      <td>1148771</td>\n    </tr>\n    <tr>\n      <th>NEWARK HW BMEBE</th>\n      <td>PTH01</td>\n      <td>R549</td>\n      <td>00-01-06</td>\n      <td>1</td>\n      <td>PTH</td>\n      <td>12/23/2016</td>\n      <td>23:59:23</td>\n      <td>REGULAR</td>\n      <td>657540</td>\n      <td>1168825</td>\n      <td>1171564</td>\n    </tr>\n  </tbody>\n</table>\n</div>"
     },
     "metadata": {},
     "execution_count": 44
    }
   ],
   "source": [
    "df"
   ]
  },
  {
   "cell_type": "code",
   "execution_count": 50,
   "metadata": {},
   "outputs": [
    {
     "output_type": "execute_result",
     "data": {
      "text/plain": [
       "           STATION  TOTAL_VISITS\n",
       "0  JFK JAMAICA CT1        219292\n",
       "1         NEWARK C        454624\n",
       "2       LACKAWANNA        829895\n",
       "3    BROAD CHANNEL       1148771\n",
       "4  NEWARK HW BMEBE       1171564"
      ],
      "text/html": "<div>\n<style scoped>\n    .dataframe tbody tr th:only-of-type {\n        vertical-align: middle;\n    }\n\n    .dataframe tbody tr th {\n        vertical-align: top;\n    }\n\n    .dataframe thead th {\n        text-align: right;\n    }\n</style>\n<table border=\"1\" class=\"dataframe\">\n  <thead>\n    <tr style=\"text-align: right;\">\n      <th></th>\n      <th>STATION</th>\n      <th>TOTAL_VISITS</th>\n    </tr>\n  </thead>\n  <tbody>\n    <tr>\n      <th>0</th>\n      <td>JFK JAMAICA CT1</td>\n      <td>219292</td>\n    </tr>\n    <tr>\n      <th>1</th>\n      <td>NEWARK C</td>\n      <td>454624</td>\n    </tr>\n    <tr>\n      <th>2</th>\n      <td>LACKAWANNA</td>\n      <td>829895</td>\n    </tr>\n    <tr>\n      <th>3</th>\n      <td>BROAD CHANNEL</td>\n      <td>1148771</td>\n    </tr>\n    <tr>\n      <th>4</th>\n      <td>NEWARK HW BMEBE</td>\n      <td>1171564</td>\n    </tr>\n  </tbody>\n</table>\n</div>"
     },
     "metadata": {},
     "execution_count": 50
    }
   ],
   "source": [
    "df1 = pd.DataFrame({\n",
    "    'STATION': ['JFK JAMAICA CT1', 'NEWARK C', 'LACKAWANNA', 'BROAD CHANNEL', 'NEWARK HW BMEBE'],\n",
    "    'TOTAL_VISITS': [219292, 454624, 829895, 1148771, 1171564]\n",
    "})\n",
    "\n",
    "# Remaking the Pandas Dataframe because the GROUP BY function used the Station column as its index\n",
    "df1"
   ]
  },
  {
   "cell_type": "code",
   "execution_count": 51,
   "metadata": {},
   "outputs": [
    {
     "output_type": "execute_result",
     "data": {
      "text/plain": [
       "STATION         object\n",
       "TOTAL_VISITS     int64\n",
       "dtype: object"
      ]
     },
     "metadata": {},
     "execution_count": 51
    }
   ],
   "source": [
    "df1.dtypes"
   ]
  },
  {
   "cell_type": "code",
   "execution_count": 52,
   "metadata": {},
   "outputs": [],
   "source": [
    "import plotly.express as px\n",
    "import plotly"
   ]
  },
  {
   "cell_type": "code",
   "execution_count": 54,
   "metadata": {},
   "outputs": [],
   "source": [
    "fig1 = px.bar(\n",
    "    df1,\n",
    "    title = 'Least Used Stations',\n",
    "    x='STATION', \n",
    "    y='TOTAL_VISITS', \n",
    "    hover_name = 'TOTAL_VISITS', \n",
    "    color='TOTAL_VISITS',\n",
    ")"
   ]
  },
  {
   "cell_type": "code",
   "execution_count": 55,
   "metadata": {},
   "outputs": [
    {
     "output_type": "display_data",
     "data": {
      "application/vnd.plotly.v1+json": {
       "config": {
        "plotlyServerURL": "https://plot.ly"
       },
       "data": [
        {
         "alignmentgroup": "True",
         "hoverlabel": {
          "namelength": 0
         },
         "hovertemplate": "<b>%{hovertext}</b><br><br>STATION=%{x}<br>TOTAL_VISITS=%{marker.color}",
         "hovertext": [
          219292,
          454624,
          829895,
          1148771,
          1171564
         ],
         "legendgroup": "",
         "marker": {
          "color": [
           219292,
           454624,
           829895,
           1148771,
           1171564
          ],
          "coloraxis": "coloraxis"
         },
         "name": "",
         "offsetgroup": "",
         "orientation": "v",
         "showlegend": false,
         "textposition": "auto",
         "type": "bar",
         "x": [
          "JFK JAMAICA CT1",
          "NEWARK C",
          "LACKAWANNA",
          "BROAD CHANNEL",
          "NEWARK HW BMEBE"
         ],
         "xaxis": "x",
         "y": [
          219292,
          454624,
          829895,
          1148771,
          1171564
         ],
         "yaxis": "y"
        }
       ],
       "layout": {
        "barmode": "relative",
        "coloraxis": {
         "colorbar": {
          "title": {
           "text": "TOTAL_VISITS"
          }
         },
         "colorscale": [
          [
           0,
           "#0d0887"
          ],
          [
           0.1111111111111111,
           "#46039f"
          ],
          [
           0.2222222222222222,
           "#7201a8"
          ],
          [
           0.3333333333333333,
           "#9c179e"
          ],
          [
           0.4444444444444444,
           "#bd3786"
          ],
          [
           0.5555555555555556,
           "#d8576b"
          ],
          [
           0.6666666666666666,
           "#ed7953"
          ],
          [
           0.7777777777777778,
           "#fb9f3a"
          ],
          [
           0.8888888888888888,
           "#fdca26"
          ],
          [
           1,
           "#f0f921"
          ]
         ]
        },
        "legend": {
         "tracegroupgap": 0
        },
        "template": {
         "data": {
          "bar": [
           {
            "error_x": {
             "color": "#2a3f5f"
            },
            "error_y": {
             "color": "#2a3f5f"
            },
            "marker": {
             "line": {
              "color": "#E5ECF6",
              "width": 0.5
             }
            },
            "type": "bar"
           }
          ],
          "barpolar": [
           {
            "marker": {
             "line": {
              "color": "#E5ECF6",
              "width": 0.5
             }
            },
            "type": "barpolar"
           }
          ],
          "carpet": [
           {
            "aaxis": {
             "endlinecolor": "#2a3f5f",
             "gridcolor": "white",
             "linecolor": "white",
             "minorgridcolor": "white",
             "startlinecolor": "#2a3f5f"
            },
            "baxis": {
             "endlinecolor": "#2a3f5f",
             "gridcolor": "white",
             "linecolor": "white",
             "minorgridcolor": "white",
             "startlinecolor": "#2a3f5f"
            },
            "type": "carpet"
           }
          ],
          "choropleth": [
           {
            "colorbar": {
             "outlinewidth": 0,
             "ticks": ""
            },
            "type": "choropleth"
           }
          ],
          "contour": [
           {
            "colorbar": {
             "outlinewidth": 0,
             "ticks": ""
            },
            "colorscale": [
             [
              0,
              "#0d0887"
             ],
             [
              0.1111111111111111,
              "#46039f"
             ],
             [
              0.2222222222222222,
              "#7201a8"
             ],
             [
              0.3333333333333333,
              "#9c179e"
             ],
             [
              0.4444444444444444,
              "#bd3786"
             ],
             [
              0.5555555555555556,
              "#d8576b"
             ],
             [
              0.6666666666666666,
              "#ed7953"
             ],
             [
              0.7777777777777778,
              "#fb9f3a"
             ],
             [
              0.8888888888888888,
              "#fdca26"
             ],
             [
              1,
              "#f0f921"
             ]
            ],
            "type": "contour"
           }
          ],
          "contourcarpet": [
           {
            "colorbar": {
             "outlinewidth": 0,
             "ticks": ""
            },
            "type": "contourcarpet"
           }
          ],
          "heatmap": [
           {
            "colorbar": {
             "outlinewidth": 0,
             "ticks": ""
            },
            "colorscale": [
             [
              0,
              "#0d0887"
             ],
             [
              0.1111111111111111,
              "#46039f"
             ],
             [
              0.2222222222222222,
              "#7201a8"
             ],
             [
              0.3333333333333333,
              "#9c179e"
             ],
             [
              0.4444444444444444,
              "#bd3786"
             ],
             [
              0.5555555555555556,
              "#d8576b"
             ],
             [
              0.6666666666666666,
              "#ed7953"
             ],
             [
              0.7777777777777778,
              "#fb9f3a"
             ],
             [
              0.8888888888888888,
              "#fdca26"
             ],
             [
              1,
              "#f0f921"
             ]
            ],
            "type": "heatmap"
           }
          ],
          "heatmapgl": [
           {
            "colorbar": {
             "outlinewidth": 0,
             "ticks": ""
            },
            "colorscale": [
             [
              0,
              "#0d0887"
             ],
             [
              0.1111111111111111,
              "#46039f"
             ],
             [
              0.2222222222222222,
              "#7201a8"
             ],
             [
              0.3333333333333333,
              "#9c179e"
             ],
             [
              0.4444444444444444,
              "#bd3786"
             ],
             [
              0.5555555555555556,
              "#d8576b"
             ],
             [
              0.6666666666666666,
              "#ed7953"
             ],
             [
              0.7777777777777778,
              "#fb9f3a"
             ],
             [
              0.8888888888888888,
              "#fdca26"
             ],
             [
              1,
              "#f0f921"
             ]
            ],
            "type": "heatmapgl"
           }
          ],
          "histogram": [
           {
            "marker": {
             "colorbar": {
              "outlinewidth": 0,
              "ticks": ""
             }
            },
            "type": "histogram"
           }
          ],
          "histogram2d": [
           {
            "colorbar": {
             "outlinewidth": 0,
             "ticks": ""
            },
            "colorscale": [
             [
              0,
              "#0d0887"
             ],
             [
              0.1111111111111111,
              "#46039f"
             ],
             [
              0.2222222222222222,
              "#7201a8"
             ],
             [
              0.3333333333333333,
              "#9c179e"
             ],
             [
              0.4444444444444444,
              "#bd3786"
             ],
             [
              0.5555555555555556,
              "#d8576b"
             ],
             [
              0.6666666666666666,
              "#ed7953"
             ],
             [
              0.7777777777777778,
              "#fb9f3a"
             ],
             [
              0.8888888888888888,
              "#fdca26"
             ],
             [
              1,
              "#f0f921"
             ]
            ],
            "type": "histogram2d"
           }
          ],
          "histogram2dcontour": [
           {
            "colorbar": {
             "outlinewidth": 0,
             "ticks": ""
            },
            "colorscale": [
             [
              0,
              "#0d0887"
             ],
             [
              0.1111111111111111,
              "#46039f"
             ],
             [
              0.2222222222222222,
              "#7201a8"
             ],
             [
              0.3333333333333333,
              "#9c179e"
             ],
             [
              0.4444444444444444,
              "#bd3786"
             ],
             [
              0.5555555555555556,
              "#d8576b"
             ],
             [
              0.6666666666666666,
              "#ed7953"
             ],
             [
              0.7777777777777778,
              "#fb9f3a"
             ],
             [
              0.8888888888888888,
              "#fdca26"
             ],
             [
              1,
              "#f0f921"
             ]
            ],
            "type": "histogram2dcontour"
           }
          ],
          "mesh3d": [
           {
            "colorbar": {
             "outlinewidth": 0,
             "ticks": ""
            },
            "type": "mesh3d"
           }
          ],
          "parcoords": [
           {
            "line": {
             "colorbar": {
              "outlinewidth": 0,
              "ticks": ""
             }
            },
            "type": "parcoords"
           }
          ],
          "pie": [
           {
            "automargin": true,
            "type": "pie"
           }
          ],
          "scatter": [
           {
            "marker": {
             "colorbar": {
              "outlinewidth": 0,
              "ticks": ""
             }
            },
            "type": "scatter"
           }
          ],
          "scatter3d": [
           {
            "line": {
             "colorbar": {
              "outlinewidth": 0,
              "ticks": ""
             }
            },
            "marker": {
             "colorbar": {
              "outlinewidth": 0,
              "ticks": ""
             }
            },
            "type": "scatter3d"
           }
          ],
          "scattercarpet": [
           {
            "marker": {
             "colorbar": {
              "outlinewidth": 0,
              "ticks": ""
             }
            },
            "type": "scattercarpet"
           }
          ],
          "scattergeo": [
           {
            "marker": {
             "colorbar": {
              "outlinewidth": 0,
              "ticks": ""
             }
            },
            "type": "scattergeo"
           }
          ],
          "scattergl": [
           {
            "marker": {
             "colorbar": {
              "outlinewidth": 0,
              "ticks": ""
             }
            },
            "type": "scattergl"
           }
          ],
          "scattermapbox": [
           {
            "marker": {
             "colorbar": {
              "outlinewidth": 0,
              "ticks": ""
             }
            },
            "type": "scattermapbox"
           }
          ],
          "scatterpolar": [
           {
            "marker": {
             "colorbar": {
              "outlinewidth": 0,
              "ticks": ""
             }
            },
            "type": "scatterpolar"
           }
          ],
          "scatterpolargl": [
           {
            "marker": {
             "colorbar": {
              "outlinewidth": 0,
              "ticks": ""
             }
            },
            "type": "scatterpolargl"
           }
          ],
          "scatterternary": [
           {
            "marker": {
             "colorbar": {
              "outlinewidth": 0,
              "ticks": ""
             }
            },
            "type": "scatterternary"
           }
          ],
          "surface": [
           {
            "colorbar": {
             "outlinewidth": 0,
             "ticks": ""
            },
            "colorscale": [
             [
              0,
              "#0d0887"
             ],
             [
              0.1111111111111111,
              "#46039f"
             ],
             [
              0.2222222222222222,
              "#7201a8"
             ],
             [
              0.3333333333333333,
              "#9c179e"
             ],
             [
              0.4444444444444444,
              "#bd3786"
             ],
             [
              0.5555555555555556,
              "#d8576b"
             ],
             [
              0.6666666666666666,
              "#ed7953"
             ],
             [
              0.7777777777777778,
              "#fb9f3a"
             ],
             [
              0.8888888888888888,
              "#fdca26"
             ],
             [
              1,
              "#f0f921"
             ]
            ],
            "type": "surface"
           }
          ],
          "table": [
           {
            "cells": {
             "fill": {
              "color": "#EBF0F8"
             },
             "line": {
              "color": "white"
             }
            },
            "header": {
             "fill": {
              "color": "#C8D4E3"
             },
             "line": {
              "color": "white"
             }
            },
            "type": "table"
           }
          ]
         },
         "layout": {
          "annotationdefaults": {
           "arrowcolor": "#2a3f5f",
           "arrowhead": 0,
           "arrowwidth": 1
          },
          "coloraxis": {
           "colorbar": {
            "outlinewidth": 0,
            "ticks": ""
           }
          },
          "colorscale": {
           "diverging": [
            [
             0,
             "#8e0152"
            ],
            [
             0.1,
             "#c51b7d"
            ],
            [
             0.2,
             "#de77ae"
            ],
            [
             0.3,
             "#f1b6da"
            ],
            [
             0.4,
             "#fde0ef"
            ],
            [
             0.5,
             "#f7f7f7"
            ],
            [
             0.6,
             "#e6f5d0"
            ],
            [
             0.7,
             "#b8e186"
            ],
            [
             0.8,
             "#7fbc41"
            ],
            [
             0.9,
             "#4d9221"
            ],
            [
             1,
             "#276419"
            ]
           ],
           "sequential": [
            [
             0,
             "#0d0887"
            ],
            [
             0.1111111111111111,
             "#46039f"
            ],
            [
             0.2222222222222222,
             "#7201a8"
            ],
            [
             0.3333333333333333,
             "#9c179e"
            ],
            [
             0.4444444444444444,
             "#bd3786"
            ],
            [
             0.5555555555555556,
             "#d8576b"
            ],
            [
             0.6666666666666666,
             "#ed7953"
            ],
            [
             0.7777777777777778,
             "#fb9f3a"
            ],
            [
             0.8888888888888888,
             "#fdca26"
            ],
            [
             1,
             "#f0f921"
            ]
           ],
           "sequentialminus": [
            [
             0,
             "#0d0887"
            ],
            [
             0.1111111111111111,
             "#46039f"
            ],
            [
             0.2222222222222222,
             "#7201a8"
            ],
            [
             0.3333333333333333,
             "#9c179e"
            ],
            [
             0.4444444444444444,
             "#bd3786"
            ],
            [
             0.5555555555555556,
             "#d8576b"
            ],
            [
             0.6666666666666666,
             "#ed7953"
            ],
            [
             0.7777777777777778,
             "#fb9f3a"
            ],
            [
             0.8888888888888888,
             "#fdca26"
            ],
            [
             1,
             "#f0f921"
            ]
           ]
          },
          "colorway": [
           "#636efa",
           "#EF553B",
           "#00cc96",
           "#ab63fa",
           "#FFA15A",
           "#19d3f3",
           "#FF6692",
           "#B6E880",
           "#FF97FF",
           "#FECB52"
          ],
          "font": {
           "color": "#2a3f5f"
          },
          "geo": {
           "bgcolor": "white",
           "lakecolor": "white",
           "landcolor": "#E5ECF6",
           "showlakes": true,
           "showland": true,
           "subunitcolor": "white"
          },
          "hoverlabel": {
           "align": "left"
          },
          "hovermode": "closest",
          "mapbox": {
           "style": "light"
          },
          "paper_bgcolor": "white",
          "plot_bgcolor": "#E5ECF6",
          "polar": {
           "angularaxis": {
            "gridcolor": "white",
            "linecolor": "white",
            "ticks": ""
           },
           "bgcolor": "#E5ECF6",
           "radialaxis": {
            "gridcolor": "white",
            "linecolor": "white",
            "ticks": ""
           }
          },
          "scene": {
           "xaxis": {
            "backgroundcolor": "#E5ECF6",
            "gridcolor": "white",
            "gridwidth": 2,
            "linecolor": "white",
            "showbackground": true,
            "ticks": "",
            "zerolinecolor": "white"
           },
           "yaxis": {
            "backgroundcolor": "#E5ECF6",
            "gridcolor": "white",
            "gridwidth": 2,
            "linecolor": "white",
            "showbackground": true,
            "ticks": "",
            "zerolinecolor": "white"
           },
           "zaxis": {
            "backgroundcolor": "#E5ECF6",
            "gridcolor": "white",
            "gridwidth": 2,
            "linecolor": "white",
            "showbackground": true,
            "ticks": "",
            "zerolinecolor": "white"
           }
          },
          "shapedefaults": {
           "line": {
            "color": "#2a3f5f"
           }
          },
          "ternary": {
           "aaxis": {
            "gridcolor": "white",
            "linecolor": "white",
            "ticks": ""
           },
           "baxis": {
            "gridcolor": "white",
            "linecolor": "white",
            "ticks": ""
           },
           "bgcolor": "#E5ECF6",
           "caxis": {
            "gridcolor": "white",
            "linecolor": "white",
            "ticks": ""
           }
          },
          "title": {
           "x": 0.05
          },
          "xaxis": {
           "automargin": true,
           "gridcolor": "white",
           "linecolor": "white",
           "ticks": "",
           "title": {
            "standoff": 15
           },
           "zerolinecolor": "white",
           "zerolinewidth": 2
          },
          "yaxis": {
           "automargin": true,
           "gridcolor": "white",
           "linecolor": "white",
           "ticks": "",
           "title": {
            "standoff": 15
           },
           "zerolinecolor": "white",
           "zerolinewidth": 2
          }
         }
        },
        "title": {
         "text": "Least Used Stations"
        },
        "xaxis": {
         "anchor": "y",
         "domain": [
          0,
          1
         ],
         "title": {
          "text": "STATION"
         }
        },
        "yaxis": {
         "anchor": "x",
         "domain": [
          0,
          1
         ],
         "title": {
          "text": "TOTAL_VISITS"
         }
        }
       }
      }
     },
     "metadata": {}
    }
   ],
   "source": [
    "fig1 \n",
    "'''\n",
    "WORK CAN BE SEEN AT MY GITHUB: \n",
    "\n",
    "https://github.com/msnyd/turnstiles\n",
    "'''"
   ]
  }
 ]
}